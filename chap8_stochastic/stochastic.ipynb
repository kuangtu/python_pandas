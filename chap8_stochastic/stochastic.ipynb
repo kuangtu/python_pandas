{
 "cells": [
  {
   "cell_type": "markdown",
   "metadata": {},
   "source": [
    "#随机"
   ]
  },
  {
   "cell_type": "markdown",
   "metadata": {},
   "source": [
    "## 随机数"
   ]
  },
  {
   "cell_type": "markdown",
   "metadata": {},
   "source": [
    "    可以通过NumPy中的random库生成随机数,rand方法产生在开区间[0,1)内的随机数，返回ndarray数组："
   ]
  },
  {
   "cell_type": "code",
   "execution_count": 2,
   "metadata": {
    "collapsed": false
   },
   "outputs": [
    {
     "data": {
      "text/plain": [
       "array([ 0.99912887,  0.78597341,  0.93658418,  0.03000367,  0.09775575,\n",
       "        0.72957943,  0.62603974,  0.47136782,  0.57080438,  0.73202473])"
      ]
     },
     "execution_count": 2,
     "metadata": {},
     "output_type": "execute_result"
    }
   ],
   "source": [
    "import numpy as np\n",
    "import numpy.random as npr\n",
    "import matplotlib.pyplot as plt\n",
    "%matplotlib inline\n",
    "npr.rand(10)"
   ]
  },
  {
   "cell_type": "markdown",
   "metadata": {},
   "source": [
    "    可以生成多维数组："
   ]
  },
  {
   "cell_type": "code",
   "execution_count": 7,
   "metadata": {
    "collapsed": false
   },
   "outputs": [
    {
     "data": {
      "text/plain": [
       "array([[ 0.46356833,  0.23736205,  0.73455951,  0.01212566,  0.12814605],\n",
       "       [ 0.48388003,  0.93138156,  0.78011093,  0.4202406 ,  0.17703532],\n",
       "       [ 0.58179773,  0.3918665 ,  0.54470625,  0.27915034,  0.64028093],\n",
       "       [ 0.07339511,  0.15796534,  0.80239507,  0.76764897,  0.9616737 ],\n",
       "       [ 0.50748796,  0.5999352 ,  0.60332875,  0.6395792 ,  0.47847917]])"
      ]
     },
     "execution_count": 7,
     "metadata": {},
     "output_type": "execute_result"
    }
   ],
   "source": [
    "npr.rand(5,5)"
   ]
  },
  {
   "cell_type": "markdown",
   "metadata": {},
   "source": [
    "    上述区间可以容易进行转换为其他区间，比如：[a,b)-->[5,10)："
   ]
  },
  {
   "cell_type": "code",
   "execution_count": 12,
   "metadata": {
    "collapsed": false
   },
   "outputs": [
    {
     "name": "stdout",
     "output_type": "stream",
     "text": [
      "[ 7.23676626  5.58914355  9.99330578  6.46877763  9.20080654  9.80944794\n",
      "  8.98293953  8.79544459  7.15376728  9.82031982]\n",
      "two dimensional\n",
      "[[ 7.12623018  8.03226768  9.92160716  7.62762875  7.15877256]\n",
      " [ 7.22354184  8.60999225  9.79546853  5.10227776  6.38227388]\n",
      " [ 6.21548707  8.06751206  8.2855226   7.91817079  7.91032012]\n",
      " [ 5.9696251   7.77677287  5.90888871  7.39696273  6.59001269]\n",
      " [ 7.22431897  5.87563502  9.99355773  5.31102429  7.22042031]]\n"
     ]
    }
   ],
   "source": [
    "a = 5.\n",
    "b = 10.\n",
    "print npr.rand(10) * (b - a) + a\n",
    "print \"two dimensional\"\n",
    "print npr.rand(5, 5) * (b - a) + a"
   ]
  },
  {
   "cell_type": "markdown",
   "metadata": {},
   "source": [
    "随机数生成函数主要的方法有\n",
    "- randn 服从正态分布的样本\n",
    "- random_sample 随机浮点数半开区间[0,10)\n",
    "- choice 基于1维数组生成随机样本"
   ]
  },
  {
   "cell_type": "code",
   "execution_count": 16,
   "metadata": {
    "collapsed": false
   },
   "outputs": [
    {
     "data": {
      "image/png": "[encoded data removed]",
      "text/plain": [
       "<matplotlib.figure.Figure at 0x10812aad0>"
      ]
     },
     "metadata": {},
     "output_type": "display_data"
    }
   ],
   "source": [
    "sample_size = 500\n",
    "rn1 = npr.rand(sample_size, 3)\n",
    "rn2 = npr.randint(0, 10, sample_size)\n",
    "rn3 = npr.sample(size=sample_size)\n",
    "a = [0, 25, 50, 75, 100]\n",
    "rn4 = npr.choice(a, size=sample_size)\n",
    "fig, ((ax1, ax2), (ax3, ax4)) = plt.subplots(nrows=2, ncols=2,\n",
    "figsize=(7, 7))\n",
    "ax1.hist(rn1, bins=25, stacked=True)\n",
    "ax1.set_title('rand')\n",
    "ax1.set_ylabel('frequency')\n",
    "ax1.grid(True)\n",
    "ax2.hist(rn2, bins=25)\n",
    "ax2.set_title('randint')\n",
    "ax2.grid(True)\n",
    "ax3.hist(rn3, bins=25)\n",
    "ax3.set_title('sample')\n",
    "ax3.set_ylabel('frequency')\n",
    "ax3.grid(True)\n",
    "ax4.hist(rn4, bins=25)\n",
    "ax4.set_title('choice')\n",
    "ax4.grid(True)"
   ]
  }
 ],
 "metadata": {
  "kernelspec": {
   "display_name": "Python 2",
   "language": "python",
   "name": "python2"
  },
  "language_info": {
   "codemirror_mode": {
    "name": "ipython",
    "version": 2
   },
   "file_extension": ".py",
   "mimetype": "text/x-python",
   "name": "python",
   "nbconvert_exporter": "python",
   "pygments_lexer": "ipython2",
   "version": "2.7.10"
  }
 },
 "nbformat": 4,
 "nbformat_minor": 0
}
