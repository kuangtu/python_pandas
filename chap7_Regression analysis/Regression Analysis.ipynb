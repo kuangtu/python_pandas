{
 "cells": [
  {
   "cell_type": "markdown",
   "metadata": {},
   "source": [
    "# 回归分析"
   ]
  },
  {
   "cell_type": "markdown",
   "metadata": {},
   "source": [
    "本章对于基础的线性回归分析进行说明。\n",
    "我们基于EURO STOXX 50指数和VSTOXX指数的历史数据模拟。"
   ]
  },
  {
   "cell_type": "markdown",
   "metadata": {},
   "source": [
    "## 数据下载"
   ]
  },
  {
   "cell_type": "code",
   "execution_count": null,
   "metadata": {
    "collapsed": true
   },
   "outputs": [],
   "source": [
    "import pandas as pd\n",
    "from urllib import urlretrieve\n",
    "es_url = 'http://www.stoxx.com/download/historical_values/hbrbcpe.txt'\n",
    "vs_url = 'http://www.stoxx.com/download/historical_values/h_vstoxx.txt'\n",
    "urlretrieve(es_url, './data/es.txt')\n",
    "urlretrieve(vs_url, './data/vs.txt')"
   ]
  },
  {
   "cell_type": "code",
   "execution_count": 4,
   "metadata": {
    "collapsed": false
   },
   "outputs": [],
   "source": [
    "lines = open('./data/es.txt', 'r').readlines()\n",
    "lines = [line.replace(' ', '') for line in lines]\n",
    "lines[:6]\n",
    "new_file = open('./data/es50.txt', 'w')\n",
    "# opens a new file\n",
    "new_file.writelines('date' + lines[3][:-1]+ ';DEL' + lines[3][-1])\n",
    "# writes the corrected third line of the original file\n",
    "# as first line of new file\n",
    "new_file.writelines(lines[4:])\n",
    "# writes the remaining lines of the orignial file\n",
    "new_file.close()"
   ]
  },
  {
   "cell_type": "code",
   "execution_count": 9,
   "metadata": {
    "collapsed": false
   },
   "outputs": [
    {
     "name": "stdout",
     "output_type": "stream",
     "text": [
      "<class 'pandas.core.frame.DataFrame'>\n",
      "DatetimeIndex: 7562 entries, 1986-12-31 00:00:00 to 2016-05-02 00:00:00\n",
      "Data columns (total 8 columns):\n",
      "SX5P    7562 non-null float64\n",
      "SX5E    7562 non-null float64\n",
      "SXXP    7562 non-null float64\n",
      "SXXE    7562 non-null float64\n",
      "SXXF    7562 non-null float64\n",
      "SXXA    7562 non-null float64\n",
      "DK5F    7562 non-null float64\n",
      "DKXF    7562 non-null float64\n",
      "dtypes: float64(8)"
     ]
    }
   ],
   "source": [
    "import numpy as np\n",
    "es = pd.read_csv('./data/es50.txt', index_col=0,parse_dates=True, sep=';', dayfirst=True)\n",
    "np.round(es.tail())\n",
    "del es['DEL']\n",
    "es.info()"
   ]
  }
 ],
 "metadata": {
  "kernelspec": {
   "display_name": "Python 2",
   "language": "python",
   "name": "python2"
  },
  "language_info": {
   "codemirror_mode": {
    "name": "ipython",
    "version": 2
   },
   "file_extension": ".py",
   "mimetype": "text/x-python",
   "name": "python",
   "nbconvert_exporter": "python",
   "pygments_lexer": "ipython2",
   "version": "2.7.6"
  }
 },
 "nbformat": 4,
 "nbformat_minor": 0
}
