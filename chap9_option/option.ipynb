{
 "cells": [
  {
   "cell_type": "markdown",
   "metadata": {},
   "source": [
    "# The Black-Scholes-Merton Option Model"
   ]
  },
  {
   "cell_type": "markdown",
   "metadata": {},
   "source": [
    "## 看涨/看跌期权收益和损失函数"
   ]
  },
  {
   "cell_type": "markdown",
   "metadata": {},
   "source": [
    "对于在看涨期权，其到期收益为:"
   ]
  },
  {
   "cell_type": "markdown",
   "metadata": {},
   "source": [
    "$$payoff(call)=\\max(S_T - X,0)$$"
   ]
  },
  {
   "cell_type": "markdown",
   "metadata": {},
   "source": [
    "其中，$S_T$为到期日的股票价格，X为期权的执行价格，如果到期日$S_T$大于执行价格，则行权：按照X的价格买入股票，并以$S_T$价格卖出；如果到期日$S_T$小于执行价格，则不行权，收益为0."
   ]
  },
  {
   "cell_type": "markdown",
   "metadata": {},
   "source": [
    "可以通过Python定义函数："
   ]
  },
  {
   "cell_type": "code",
   "execution_count": 1,
   "metadata": {
    "collapsed": true
   },
   "outputs": [],
   "source": [
    "def payoff_call(sT,x):\n",
    "      return (sT-x+abs(sT-x))/2"
   ]
  },
  {
   "cell_type": "markdown",
   "metadata": {},
   "source": [
    "其中，第一个参数文件期权到期日股票的市场价格，第二个参数为期权的执行价格。"
   ]
  },
  {
   "cell_type": "code",
   "execution_count": 5,
   "metadata": {
    "collapsed": false
   },
   "outputs": [
    {
     "data": {
      "text/plain": [
       "0"
      ]
     },
     "execution_count": 5,
     "metadata": {},
     "output_type": "execute_result"
    }
   ],
   "source": [
    "payoff_call(10,25)"
   ]
  },
  {
   "cell_type": "code",
   "execution_count": 6,
   "metadata": {
    "collapsed": false
   },
   "outputs": [
    {
     "data": {
      "text/plain": [
       "10"
      ]
     },
     "execution_count": 6,
     "metadata": {},
     "output_type": "execute_result"
    }
   ],
   "source": [
    "payoff_call(20,10)"
   ]
  },
  {
   "cell_type": "markdown",
   "metadata": {},
   "source": [
    "可以通过如下代码绘制看涨期权的收益："
   ]
  },
  {
   "cell_type": "code",
   "execution_count": 14,
   "metadata": {
    "collapsed": false
   },
   "outputs": [
    {
     "data": {
      "text/plain": [
       "[<matplotlib.lines.Line2D at 0x10efc0b50>]"
      ]
     },
     "execution_count": 14,
     "metadata": {},
     "output_type": "execute_result"
    },
    {
     "data": {
      "image/png": "[encoded data removed]",
      "text/plain": [
       "<matplotlib.figure.Figure at 0x10e1e3d50>"
      ]
     },
     "metadata": {},
     "output_type": "display_data"
    }
   ],
   "source": [
    "import numpy as np\n",
    "import matplotlib as mpl\n",
    "import matplotlib.pyplot as plt\n",
    "%matplotlib inline\n",
    "import numpy as np\n",
    "x = 20 \n",
    "sT=np.arange(10,50,10)\n",
    "payoff = payoff_call(sT,x)\n",
    "plt.ylim(-10,30)\n",
    "plt.plot(sT,payoff)"
   ]
  },
  {
   "cell_type": "markdown",
   "metadata": {},
   "source": [
    "## 看涨期权长头寸/短头寸收益"
   ]
  },
  {
   "cell_type": "markdown",
   "metadata": {},
   "source": [
    "对于看涨期权的长头寸持有者，收益为："
   ]
  },
  {
   "cell_type": "markdown",
   "metadata": {},
   "source": [
    "$$Profit/loss(call) = \\max(S_T - X, 0) -c $$"
   ]
  },
  {
   "cell_type": "markdown",
   "metadata": {},
   "source": [
    "对于看涨期权的短头寸持有者，收益为："
   ]
  },
  {
   "cell_type": "markdown",
   "metadata": {},
   "source": [
    "$$Profit/loss(call) = c -\\max(S_T - X, 0)$$"
   ]
  },
  {
   "cell_type": "markdown",
   "metadata": {},
   "source": [
    "可以通过如下的代码，绘制看涨期权两方头寸的收益："
   ]
  },
  {
   "cell_type": "code",
   "execution_count": 18,
   "metadata": {
    "collapsed": false
   },
   "outputs": [
    {
     "data": {
      "image/png": "[encoded data removed]",
      "text/plain": [
       "<matplotlib.figure.Figure at 0x10f2bffd0>"
      ]
     },
     "metadata": {},
     "output_type": "display_data"
    }
   ],
   "source": [
    "s = np.arange(30,70,5)\n",
    "x=45;call=5\n",
    "profit=(abs(s-x)+s-x)/2 -call\n",
    "y2=np.zeros(len(s))\n",
    "plt.ylim(-30,50)\n",
    "plt.plot(s,profit)\n",
    "plt.plot(s,y2,'-.')\n",
    "plt.plot(s,-profit)\n",
    "plt.title(\"Profit/Loss function\")\n",
    "plt.xlabel('Stock price')\n",
    "plt.ylabel('Profit (loss)')\n",
    "plt.annotate('Call option buyer', xy=(55,15), xytext=(35,20),\n",
    "             arrowprops=dict(facecolor='blue',shrink=0.01),)\n",
    "plt.annotate('Call option seller', xy=(55,-10), xytext=(40,-20),\n",
    "             arrowprops=dict(facecolor='red',shrink=0.01),)\n",
    "plt.show()"
   ]
  }
 ],
 "metadata": {
  "kernelspec": {
   "display_name": "Python 2",
   "language": "python",
   "name": "python2"
  },
  "language_info": {
   "codemirror_mode": {
    "name": "ipython",
    "version": 2
   },
   "file_extension": ".py",
   "mimetype": "text/x-python",
   "name": "python",
   "nbconvert_exporter": "python",
   "pygments_lexer": "ipython2",
   "version": "2.7.10"
  }
 },
 "nbformat": 4,
 "nbformat_minor": 0
}
