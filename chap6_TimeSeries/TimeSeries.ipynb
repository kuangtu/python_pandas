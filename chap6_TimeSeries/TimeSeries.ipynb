{
 "cells": [
  {
   "cell_type": "markdown",
   "metadata": {},
   "source": [
    "## 数据时间序列"
   ]
  },
  {
   "cell_type": "markdown",
   "metadata": {},
   "source": [
    "    对于金融时间序列，通过以日期和时间为索引。比如：一段周期内的股票价格。本章基于DataFrame和Series对于对于时间序列数据的处理进行分析。"
   ]
  },
  {
   "cell_type": "markdown",
   "metadata": {},
   "source": [
    "    通过NumPy产生符合正态分布的4列数据，一共9组："
   ]
  },
  {
   "cell_type": "code",
   "execution_count": 1,
   "metadata": {
    "collapsed": false
   },
   "outputs": [
    {
     "data": {
      "text/plain": [
       "array([[-0.047533,  0.341121, -0.124877,  0.4812  ],\n",
       "       [-0.003328, -1.267631, -0.891469,  0.635724],\n",
       "       [ 0.865868,  0.605463,  0.640924,  0.633933],\n",
       "       [-0.262168,  1.608227, -0.416672, -1.163138],\n",
       "       [-1.433862,  0.575272, -0.727582, -0.884328],\n",
       "       [ 0.873287, -1.184645,  0.372252,  0.39865 ],\n",
       "       [-2.232371,  1.327098, -0.174768, -1.282559],\n",
       "       [-0.368158, -1.432377,  1.634326, -2.432003],\n",
       "       [-0.1131  , -0.011598, -0.947674,  0.34216 ]])"
      ]
     },
     "execution_count": 1,
     "metadata": {},
     "output_type": "execute_result"
    }
   ],
   "source": [
    "import numpy as np\n",
    "import pandas as pd\n",
    "a = np.random.standard_normal((9, 4))\n",
    "a.round(6)"
   ]
  },
  {
   "cell_type": "markdown",
   "metadata": {},
   "source": [
    "    通过上述的NumPy数组构建DataFrame:"
   ]
  },
  {
   "cell_type": "code",
   "execution_count": 2,
   "metadata": {
    "collapsed": false
   },
   "outputs": [
    {
     "data": {
      "text/html": [
       "<div>\n",
       "<table border=\"1\" class=\"dataframe\">\n",
       "  <thead>\n",
       "    <tr style=\"text-align: right;\">\n",
       "      <th></th>\n",
       "      <th>0</th>\n",
       "      <th>1</th>\n",
       "      <th>2</th>\n",
       "      <th>3</th>\n",
       "    </tr>\n",
       "  </thead>\n",
       "  <tbody>\n",
       "    <tr>\n",
       "      <th>0</th>\n",
       "      <td>-0.047533</td>\n",
       "      <td>0.341121</td>\n",
       "      <td>-0.124877</td>\n",
       "      <td>0.481200</td>\n",
       "    </tr>\n",
       "    <tr>\n",
       "      <th>1</th>\n",
       "      <td>-0.003328</td>\n",
       "      <td>-1.267631</td>\n",
       "      <td>-0.891469</td>\n",
       "      <td>0.635724</td>\n",
       "    </tr>\n",
       "    <tr>\n",
       "      <th>2</th>\n",
       "      <td>0.865868</td>\n",
       "      <td>0.605463</td>\n",
       "      <td>0.640924</td>\n",
       "      <td>0.633933</td>\n",
       "    </tr>\n",
       "    <tr>\n",
       "      <th>3</th>\n",
       "      <td>-0.262168</td>\n",
       "      <td>1.608227</td>\n",
       "      <td>-0.416672</td>\n",
       "      <td>-1.163138</td>\n",
       "    </tr>\n",
       "    <tr>\n",
       "      <th>4</th>\n",
       "      <td>-1.433862</td>\n",
       "      <td>0.575272</td>\n",
       "      <td>-0.727582</td>\n",
       "      <td>-0.884328</td>\n",
       "    </tr>\n",
       "    <tr>\n",
       "      <th>5</th>\n",
       "      <td>0.873287</td>\n",
       "      <td>-1.184645</td>\n",
       "      <td>0.372252</td>\n",
       "      <td>0.398650</td>\n",
       "    </tr>\n",
       "    <tr>\n",
       "      <th>6</th>\n",
       "      <td>-2.232371</td>\n",
       "      <td>1.327098</td>\n",
       "      <td>-0.174768</td>\n",
       "      <td>-1.282559</td>\n",
       "    </tr>\n",
       "    <tr>\n",
       "      <th>7</th>\n",
       "      <td>-0.368158</td>\n",
       "      <td>-1.432377</td>\n",
       "      <td>1.634326</td>\n",
       "      <td>-2.432003</td>\n",
       "    </tr>\n",
       "    <tr>\n",
       "      <th>8</th>\n",
       "      <td>-0.113100</td>\n",
       "      <td>-0.011598</td>\n",
       "      <td>-0.947674</td>\n",
       "      <td>0.342160</td>\n",
       "    </tr>\n",
       "  </tbody>\n",
       "</table>\n",
       "</div>"
      ],
      "text/plain": [
       "          0         1         2         3\n",
       "0 -0.047533  0.341121 -0.124877  0.481200\n",
       "1 -0.003328 -1.267631 -0.891469  0.635724\n",
       "2  0.865868  0.605463  0.640924  0.633933\n",
       "3 -0.262168  1.608227 -0.416672 -1.163138\n",
       "4 -1.433862  0.575272 -0.727582 -0.884328\n",
       "5  0.873287 -1.184645  0.372252  0.398650\n",
       "6 -2.232371  1.327098 -0.174768 -1.282559\n",
       "7 -0.368158 -1.432377  1.634326 -2.432003\n",
       "8 -0.113100 -0.011598 -0.947674  0.342160"
      ]
     },
     "execution_count": 2,
     "metadata": {},
     "output_type": "execute_result"
    }
   ],
   "source": [
    "df = pd.DataFrame(a)\n",
    "df"
   ]
  },
  {
   "cell_type": "markdown",
   "metadata": {},
   "source": [
    "    默认列为[0,1,2,3]，每列的index索引为：0~8。对于列名重新命名："
   ]
  },
  {
   "cell_type": "code",
   "execution_count": 3,
   "metadata": {
    "collapsed": false
   },
   "outputs": [
    {
     "data": {
      "text/html": [
       "<div>\n",
       "<table border=\"1\" class=\"dataframe\">\n",
       "  <thead>\n",
       "    <tr style=\"text-align: right;\">\n",
       "      <th></th>\n",
       "      <th>No1</th>\n",
       "      <th>No2</th>\n",
       "      <th>No3</th>\n",
       "      <th>No4</th>\n",
       "    </tr>\n",
       "  </thead>\n",
       "  <tbody>\n",
       "    <tr>\n",
       "      <th>0</th>\n",
       "      <td>-0.047533</td>\n",
       "      <td>0.341121</td>\n",
       "      <td>-0.124877</td>\n",
       "      <td>0.481200</td>\n",
       "    </tr>\n",
       "    <tr>\n",
       "      <th>1</th>\n",
       "      <td>-0.003328</td>\n",
       "      <td>-1.267631</td>\n",
       "      <td>-0.891469</td>\n",
       "      <td>0.635724</td>\n",
       "    </tr>\n",
       "    <tr>\n",
       "      <th>2</th>\n",
       "      <td>0.865868</td>\n",
       "      <td>0.605463</td>\n",
       "      <td>0.640924</td>\n",
       "      <td>0.633933</td>\n",
       "    </tr>\n",
       "    <tr>\n",
       "      <th>3</th>\n",
       "      <td>-0.262168</td>\n",
       "      <td>1.608227</td>\n",
       "      <td>-0.416672</td>\n",
       "      <td>-1.163138</td>\n",
       "    </tr>\n",
       "    <tr>\n",
       "      <th>4</th>\n",
       "      <td>-1.433862</td>\n",
       "      <td>0.575272</td>\n",
       "      <td>-0.727582</td>\n",
       "      <td>-0.884328</td>\n",
       "    </tr>\n",
       "    <tr>\n",
       "      <th>5</th>\n",
       "      <td>0.873287</td>\n",
       "      <td>-1.184645</td>\n",
       "      <td>0.372252</td>\n",
       "      <td>0.398650</td>\n",
       "    </tr>\n",
       "    <tr>\n",
       "      <th>6</th>\n",
       "      <td>-2.232371</td>\n",
       "      <td>1.327098</td>\n",
       "      <td>-0.174768</td>\n",
       "      <td>-1.282559</td>\n",
       "    </tr>\n",
       "    <tr>\n",
       "      <th>7</th>\n",
       "      <td>-0.368158</td>\n",
       "      <td>-1.432377</td>\n",
       "      <td>1.634326</td>\n",
       "      <td>-2.432003</td>\n",
       "    </tr>\n",
       "    <tr>\n",
       "      <th>8</th>\n",
       "      <td>-0.113100</td>\n",
       "      <td>-0.011598</td>\n",
       "      <td>-0.947674</td>\n",
       "      <td>0.342160</td>\n",
       "    </tr>\n",
       "  </tbody>\n",
       "</table>\n",
       "</div>"
      ],
      "text/plain": [
       "        No1       No2       No3       No4\n",
       "0 -0.047533  0.341121 -0.124877  0.481200\n",
       "1 -0.003328 -1.267631 -0.891469  0.635724\n",
       "2  0.865868  0.605463  0.640924  0.633933\n",
       "3 -0.262168  1.608227 -0.416672 -1.163138\n",
       "4 -1.433862  0.575272 -0.727582 -0.884328\n",
       "5  0.873287 -1.184645  0.372252  0.398650\n",
       "6 -2.232371  1.327098 -0.174768 -1.282559\n",
       "7 -0.368158 -1.432377  1.634326 -2.432003\n",
       "8 -0.113100 -0.011598 -0.947674  0.342160"
      ]
     },
     "execution_count": 3,
     "metadata": {},
     "output_type": "execute_result"
    }
   ],
   "source": [
    "df.columns = [['No1', 'No2', 'No3', 'No4']]\n",
    "df"
   ]
  },
  {
   "cell_type": "markdown",
   "metadata": {},
   "source": [
    "    取出‘No2’列的所以为3的数据："
   ]
  },
  {
   "cell_type": "code",
   "execution_count": 4,
   "metadata": {
    "collapsed": false
   },
   "outputs": [
    {
     "data": {
      "text/plain": [
       "1.6082272086243801"
      ]
     },
     "execution_count": 4,
     "metadata": {},
     "output_type": "execute_result"
    }
   ],
   "source": [
    "df['No2'][3]"
   ]
  },
  {
   "cell_type": "markdown",
   "metadata": {},
   "source": [
    "    将上述的数据按照日期进行索引，先生成日期索引，然后更换DataFrame中的索引："
   ]
  },
  {
   "cell_type": "code",
   "execution_count": 5,
   "metadata": {
    "collapsed": false
   },
   "outputs": [
    {
     "data": {
      "text/html": [
       "<div>\n",
       "<table border=\"1\" class=\"dataframe\">\n",
       "  <thead>\n",
       "    <tr style=\"text-align: right;\">\n",
       "      <th></th>\n",
       "      <th>No1</th>\n",
       "      <th>No2</th>\n",
       "      <th>No3</th>\n",
       "      <th>No4</th>\n",
       "    </tr>\n",
       "  </thead>\n",
       "  <tbody>\n",
       "    <tr>\n",
       "      <th>2015-01-31</th>\n",
       "      <td>-0.047533</td>\n",
       "      <td>0.341121</td>\n",
       "      <td>-0.124877</td>\n",
       "      <td>0.481200</td>\n",
       "    </tr>\n",
       "    <tr>\n",
       "      <th>2015-02-28</th>\n",
       "      <td>-0.003328</td>\n",
       "      <td>-1.267631</td>\n",
       "      <td>-0.891469</td>\n",
       "      <td>0.635724</td>\n",
       "    </tr>\n",
       "    <tr>\n",
       "      <th>2015-03-31</th>\n",
       "      <td>0.865868</td>\n",
       "      <td>0.605463</td>\n",
       "      <td>0.640924</td>\n",
       "      <td>0.633933</td>\n",
       "    </tr>\n",
       "    <tr>\n",
       "      <th>2015-04-30</th>\n",
       "      <td>-0.262168</td>\n",
       "      <td>1.608227</td>\n",
       "      <td>-0.416672</td>\n",
       "      <td>-1.163138</td>\n",
       "    </tr>\n",
       "    <tr>\n",
       "      <th>2015-05-31</th>\n",
       "      <td>-1.433862</td>\n",
       "      <td>0.575272</td>\n",
       "      <td>-0.727582</td>\n",
       "      <td>-0.884328</td>\n",
       "    </tr>\n",
       "    <tr>\n",
       "      <th>2015-06-30</th>\n",
       "      <td>0.873287</td>\n",
       "      <td>-1.184645</td>\n",
       "      <td>0.372252</td>\n",
       "      <td>0.398650</td>\n",
       "    </tr>\n",
       "    <tr>\n",
       "      <th>2015-07-31</th>\n",
       "      <td>-2.232371</td>\n",
       "      <td>1.327098</td>\n",
       "      <td>-0.174768</td>\n",
       "      <td>-1.282559</td>\n",
       "    </tr>\n",
       "    <tr>\n",
       "      <th>2015-08-31</th>\n",
       "      <td>-0.368158</td>\n",
       "      <td>-1.432377</td>\n",
       "      <td>1.634326</td>\n",
       "      <td>-2.432003</td>\n",
       "    </tr>\n",
       "    <tr>\n",
       "      <th>2015-09-30</th>\n",
       "      <td>-0.113100</td>\n",
       "      <td>-0.011598</td>\n",
       "      <td>-0.947674</td>\n",
       "      <td>0.342160</td>\n",
       "    </tr>\n",
       "  </tbody>\n",
       "</table>\n",
       "</div>"
      ],
      "text/plain": [
       "                 No1       No2       No3       No4\n",
       "2015-01-31 -0.047533  0.341121 -0.124877  0.481200\n",
       "2015-02-28 -0.003328 -1.267631 -0.891469  0.635724\n",
       "2015-03-31  0.865868  0.605463  0.640924  0.633933\n",
       "2015-04-30 -0.262168  1.608227 -0.416672 -1.163138\n",
       "2015-05-31 -1.433862  0.575272 -0.727582 -0.884328\n",
       "2015-06-30  0.873287 -1.184645  0.372252  0.398650\n",
       "2015-07-31 -2.232371  1.327098 -0.174768 -1.282559\n",
       "2015-08-31 -0.368158 -1.432377  1.634326 -2.432003\n",
       "2015-09-30 -0.113100 -0.011598 -0.947674  0.342160"
      ]
     },
     "execution_count": 5,
     "metadata": {},
     "output_type": "execute_result"
    }
   ],
   "source": [
    "dates = pd.date_range('2015-1-1', periods=9, freq='M')\n",
    "dates\n",
    "df.index=dates\n",
    "df"
   ]
  },
  {
   "cell_type": "markdown",
   "metadata": {},
   "source": [
    "    按照月度的频率，一共生成9期。"
   ]
  },
  {
   "cell_type": "markdown",
   "metadata": {},
   "source": [
    "    对于各列求和："
   ]
  },
  {
   "cell_type": "code",
   "execution_count": 6,
   "metadata": {
    "collapsed": false
   },
   "outputs": [
    {
     "data": {
      "text/plain": [
       "No1   -2.721365\n",
       "No2    0.560930\n",
       "No3   -0.635540\n",
       "No4   -3.270360\n",
       "dtype: float64"
      ]
     },
     "execution_count": 6,
     "metadata": {},
     "output_type": "execute_result"
    }
   ],
   "source": [
    "df.sum()"
   ]
  },
  {
   "cell_type": "markdown",
   "metadata": {},
   "source": [
    "    对于上述的数据输入统计信息，DataFrame中有describe方法:"
   ]
  },
  {
   "cell_type": "code",
   "execution_count": 7,
   "metadata": {
    "collapsed": false
   },
   "outputs": [
    {
     "data": {
      "text/html": [
       "<div>\n",
       "<table border=\"1\" class=\"dataframe\">\n",
       "  <thead>\n",
       "    <tr style=\"text-align: right;\">\n",
       "      <th></th>\n",
       "      <th>No1</th>\n",
       "      <th>No2</th>\n",
       "      <th>No3</th>\n",
       "      <th>No4</th>\n",
       "    </tr>\n",
       "  </thead>\n",
       "  <tbody>\n",
       "    <tr>\n",
       "      <th>count</th>\n",
       "      <td>9.000000</td>\n",
       "      <td>9.000000</td>\n",
       "      <td>9.000000</td>\n",
       "      <td>9.000000</td>\n",
       "    </tr>\n",
       "    <tr>\n",
       "      <th>mean</th>\n",
       "      <td>-0.302374</td>\n",
       "      <td>0.062326</td>\n",
       "      <td>-0.070616</td>\n",
       "      <td>-0.363373</td>\n",
       "    </tr>\n",
       "    <tr>\n",
       "      <th>std</th>\n",
       "      <td>0.996761</td>\n",
       "      <td>1.128529</td>\n",
       "      <td>0.837961</td>\n",
       "      <td>1.107911</td>\n",
       "    </tr>\n",
       "    <tr>\n",
       "      <th>min</th>\n",
       "      <td>-2.232371</td>\n",
       "      <td>-1.432377</td>\n",
       "      <td>-0.947674</td>\n",
       "      <td>-2.432003</td>\n",
       "    </tr>\n",
       "    <tr>\n",
       "      <th>25%</th>\n",
       "      <td>-0.368158</td>\n",
       "      <td>-1.184645</td>\n",
       "      <td>-0.727582</td>\n",
       "      <td>-1.163138</td>\n",
       "    </tr>\n",
       "    <tr>\n",
       "      <th>50%</th>\n",
       "      <td>-0.113100</td>\n",
       "      <td>0.341121</td>\n",
       "      <td>-0.174768</td>\n",
       "      <td>0.342160</td>\n",
       "    </tr>\n",
       "    <tr>\n",
       "      <th>75%</th>\n",
       "      <td>-0.003328</td>\n",
       "      <td>0.605463</td>\n",
       "      <td>0.372252</td>\n",
       "      <td>0.481200</td>\n",
       "    </tr>\n",
       "    <tr>\n",
       "      <th>max</th>\n",
       "      <td>0.873287</td>\n",
       "      <td>1.608227</td>\n",
       "      <td>1.634326</td>\n",
       "      <td>0.635724</td>\n",
       "    </tr>\n",
       "  </tbody>\n",
       "</table>\n",
       "</div>"
      ],
      "text/plain": [
       "            No1       No2       No3       No4\n",
       "count  9.000000  9.000000  9.000000  9.000000\n",
       "mean  -0.302374  0.062326 -0.070616 -0.363373\n",
       "std    0.996761  1.128529  0.837961  1.107911\n",
       "min   -2.232371 -1.432377 -0.947674 -2.432003\n",
       "25%   -0.368158 -1.184645 -0.727582 -1.163138\n",
       "50%   -0.113100  0.341121 -0.174768  0.342160\n",
       "75%   -0.003328  0.605463  0.372252  0.481200\n",
       "max    0.873287  1.608227  1.634326  0.635724"
      ]
     },
     "execution_count": 7,
     "metadata": {},
     "output_type": "execute_result"
    }
   ],
   "source": [
    "df.describe()"
   ]
  },
  {
   "cell_type": "markdown",
   "metadata": {},
   "source": [
    "    对于上述的'No1'列累加值进行绘图："
   ]
  },
  {
   "cell_type": "code",
   "execution_count": 8,
   "metadata": {
    "collapsed": false
   },
   "outputs": [
    {
     "data": {
      "text/plain": [
       "<matplotlib.text.Text at 0x10778f590>"
      ]
     },
     "execution_count": 8,
     "metadata": {},
     "output_type": "execute_result"
    },
    {
     "data": {
      "image/png": "[encoded data removed]",
      "text/plain": [
       "<matplotlib.figure.Figure at 0x107759090>"
      ]
     },
     "metadata": {},
     "output_type": "display_data"
    }
   ],
   "source": [
    "import matplotlib.pyplot as plt\n",
    "%matplotlib inline\n",
    "df['No1'].cumsum().plot(style='r',lw=2)\n",
    "plt.xlabel('date')\n",
    "plt.ylabel('value')"
   ]
  }
 ],
 "metadata": {
  "kernelspec": {
   "display_name": "Python 2",
   "language": "python",
   "name": "python2"
  },
  "language_info": {
   "codemirror_mode": {
    "name": "ipython",
    "version": 2
   },
   "file_extension": ".py",
   "mimetype": "text/x-python",
   "name": "python",
   "nbconvert_exporter": "python",
   "pygments_lexer": "ipython2",
   "version": "2.7.10"
  }
 },
 "nbformat": 4,
 "nbformat_minor": 0
}
