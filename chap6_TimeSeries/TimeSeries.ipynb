{
 "cells": [
  {
   "cell_type": "markdown",
   "metadata": {},
   "source": [
    "## 数据时间序列"
   ]
  },
  {
   "cell_type": "markdown",
   "metadata": {},
   "source": [
    "    对于金融时间序列，通过以日期和时间为索引。比如：一段周期内的股票价格。本章基于DataFrame和Series对于对于时间序列数据的处理进行分析。"
   ]
  },
  {
   "cell_type": "markdown",
   "metadata": {},
   "source": [
    "    通过NumPy产生符合正态分布的4列数据，一共9组："
   ]
  },
  {
   "cell_type": "code",
   "execution_count": 4,
   "metadata": {
    "collapsed": false
   },
   "outputs": [
    {
     "data": {
      "text/plain": [
       "array([[ 0.840714, -0.161328,  0.883852, -1.081878],\n",
       "       [ 0.668495, -1.505457, -0.92047 ,  0.32836 ],\n",
       "       [-0.432335,  0.153893, -0.632531, -1.197962],\n",
       "       [-0.984301,  0.989159,  1.43038 ,  0.683963],\n",
       "       [-0.719894,  0.705136,  0.296284,  0.825621],\n",
       "       [-1.084608,  1.413212, -0.673816, -0.436184],\n",
       "       [ 0.232442,  0.906716,  0.790316,  0.285571],\n",
       "       [ 0.605089, -1.471492, -0.807196,  1.609611],\n",
       "       [-1.024564, -0.014769, -0.586207,  1.123556]])"
      ]
     },
     "execution_count": 4,
     "metadata": {},
     "output_type": "execute_result"
    }
   ],
   "source": [
    "import numpy as np\n",
    "import pandas as pd\n",
    "a = np.random.standard_normal((9, 4))\n",
    "a.round(6)"
   ]
  },
  {
   "cell_type": "markdown",
   "metadata": {},
   "source": [
    "    通过上述的NumPy数组构建DataFrame:"
   ]
  },
  {
   "cell_type": "code",
   "execution_count": 5,
   "metadata": {
    "collapsed": false
   },
   "outputs": [
    {
     "data": {
      "text/html": [
       "<div style=\"max-height:1000px;max-width:1500px;overflow:auto;\">\n",
       "<table border=\"1\" class=\"dataframe\">\n",
       "  <thead>\n",
       "    <tr style=\"text-align: right;\">\n",
       "      <th></th>\n",
       "      <th>0</th>\n",
       "      <th>1</th>\n",
       "      <th>2</th>\n",
       "      <th>3</th>\n",
       "    </tr>\n",
       "  </thead>\n",
       "  <tbody>\n",
       "    <tr>\n",
       "      <th>0</th>\n",
       "      <td> 0.840714</td>\n",
       "      <td>-0.161328</td>\n",
       "      <td> 0.883852</td>\n",
       "      <td>-1.081878</td>\n",
       "    </tr>\n",
       "    <tr>\n",
       "      <th>1</th>\n",
       "      <td> 0.668495</td>\n",
       "      <td>-1.505457</td>\n",
       "      <td>-0.920470</td>\n",
       "      <td> 0.328360</td>\n",
       "    </tr>\n",
       "    <tr>\n",
       "      <th>2</th>\n",
       "      <td>-0.432335</td>\n",
       "      <td> 0.153893</td>\n",
       "      <td>-0.632531</td>\n",
       "      <td>-1.197962</td>\n",
       "    </tr>\n",
       "    <tr>\n",
       "      <th>3</th>\n",
       "      <td>-0.984301</td>\n",
       "      <td> 0.989159</td>\n",
       "      <td> 1.430380</td>\n",
       "      <td> 0.683963</td>\n",
       "    </tr>\n",
       "    <tr>\n",
       "      <th>4</th>\n",
       "      <td>-0.719894</td>\n",
       "      <td> 0.705136</td>\n",
       "      <td> 0.296284</td>\n",
       "      <td> 0.825621</td>\n",
       "    </tr>\n",
       "    <tr>\n",
       "      <th>5</th>\n",
       "      <td>-1.084608</td>\n",
       "      <td> 1.413212</td>\n",
       "      <td>-0.673816</td>\n",
       "      <td>-0.436184</td>\n",
       "    </tr>\n",
       "    <tr>\n",
       "      <th>6</th>\n",
       "      <td> 0.232442</td>\n",
       "      <td> 0.906716</td>\n",
       "      <td> 0.790316</td>\n",
       "      <td> 0.285571</td>\n",
       "    </tr>\n",
       "    <tr>\n",
       "      <th>7</th>\n",
       "      <td> 0.605089</td>\n",
       "      <td>-1.471492</td>\n",
       "      <td>-0.807196</td>\n",
       "      <td> 1.609611</td>\n",
       "    </tr>\n",
       "    <tr>\n",
       "      <th>8</th>\n",
       "      <td>-1.024564</td>\n",
       "      <td>-0.014769</td>\n",
       "      <td>-0.586207</td>\n",
       "      <td> 1.123556</td>\n",
       "    </tr>\n",
       "  </tbody>\n",
       "</table>\n",
       "<p>9 rows × 4 columns</p>\n",
       "</div>"
      ],
      "text/plain": [
       "          0         1         2         3\n",
       "0  0.840714 -0.161328  0.883852 -1.081878\n",
       "1  0.668495 -1.505457 -0.920470  0.328360\n",
       "2 -0.432335  0.153893 -0.632531 -1.197962\n",
       "3 -0.984301  0.989159  1.430380  0.683963\n",
       "4 -0.719894  0.705136  0.296284  0.825621\n",
       "5 -1.084608  1.413212 -0.673816 -0.436184\n",
       "6  0.232442  0.906716  0.790316  0.285571\n",
       "7  0.605089 -1.471492 -0.807196  1.609611\n",
       "8 -1.024564 -0.014769 -0.586207  1.123556\n",
       "\n",
       "[9 rows x 4 columns]"
      ]
     },
     "execution_count": 5,
     "metadata": {},
     "output_type": "execute_result"
    }
   ],
   "source": [
    "df = pd.DataFrame(a)\n",
    "df"
   ]
  },
  {
   "cell_type": "markdown",
   "metadata": {},
   "source": [
    "    默认列为[0,1,2,3]，每列的index索引为：0~8。对于列名重新命名："
   ]
  },
  {
   "cell_type": "code",
   "execution_count": 7,
   "metadata": {
    "collapsed": false
   },
   "outputs": [
    {
     "data": {
      "text/html": [
       "<div style=\"max-height:1000px;max-width:1500px;overflow:auto;\">\n",
       "<table border=\"1\" class=\"dataframe\">\n",
       "  <thead>\n",
       "    <tr style=\"text-align: right;\">\n",
       "      <th></th>\n",
       "      <th>No1</th>\n",
       "      <th>No2</th>\n",
       "      <th>No3</th>\n",
       "      <th>No4</th>\n",
       "    </tr>\n",
       "  </thead>\n",
       "  <tbody>\n",
       "    <tr>\n",
       "      <th>0</th>\n",
       "      <td> 0.840714</td>\n",
       "      <td>-0.161328</td>\n",
       "      <td> 0.883852</td>\n",
       "      <td>-1.081878</td>\n",
       "    </tr>\n",
       "    <tr>\n",
       "      <th>1</th>\n",
       "      <td> 0.668495</td>\n",
       "      <td>-1.505457</td>\n",
       "      <td>-0.920470</td>\n",
       "      <td> 0.328360</td>\n",
       "    </tr>\n",
       "    <tr>\n",
       "      <th>2</th>\n",
       "      <td>-0.432335</td>\n",
       "      <td> 0.153893</td>\n",
       "      <td>-0.632531</td>\n",
       "      <td>-1.197962</td>\n",
       "    </tr>\n",
       "    <tr>\n",
       "      <th>3</th>\n",
       "      <td>-0.984301</td>\n",
       "      <td> 0.989159</td>\n",
       "      <td> 1.430380</td>\n",
       "      <td> 0.683963</td>\n",
       "    </tr>\n",
       "    <tr>\n",
       "      <th>4</th>\n",
       "      <td>-0.719894</td>\n",
       "      <td> 0.705136</td>\n",
       "      <td> 0.296284</td>\n",
       "      <td> 0.825621</td>\n",
       "    </tr>\n",
       "    <tr>\n",
       "      <th>5</th>\n",
       "      <td>-1.084608</td>\n",
       "      <td> 1.413212</td>\n",
       "      <td>-0.673816</td>\n",
       "      <td>-0.436184</td>\n",
       "    </tr>\n",
       "    <tr>\n",
       "      <th>6</th>\n",
       "      <td> 0.232442</td>\n",
       "      <td> 0.906716</td>\n",
       "      <td> 0.790316</td>\n",
       "      <td> 0.285571</td>\n",
       "    </tr>\n",
       "    <tr>\n",
       "      <th>7</th>\n",
       "      <td> 0.605089</td>\n",
       "      <td>-1.471492</td>\n",
       "      <td>-0.807196</td>\n",
       "      <td> 1.609611</td>\n",
       "    </tr>\n",
       "    <tr>\n",
       "      <th>8</th>\n",
       "      <td>-1.024564</td>\n",
       "      <td>-0.014769</td>\n",
       "      <td>-0.586207</td>\n",
       "      <td> 1.123556</td>\n",
       "    </tr>\n",
       "  </tbody>\n",
       "</table>\n",
       "<p>9 rows × 4 columns</p>\n",
       "</div>"
      ],
      "text/plain": [
       "        No1       No2       No3       No4\n",
       "0  0.840714 -0.161328  0.883852 -1.081878\n",
       "1  0.668495 -1.505457 -0.920470  0.328360\n",
       "2 -0.432335  0.153893 -0.632531 -1.197962\n",
       "3 -0.984301  0.989159  1.430380  0.683963\n",
       "4 -0.719894  0.705136  0.296284  0.825621\n",
       "5 -1.084608  1.413212 -0.673816 -0.436184\n",
       "6  0.232442  0.906716  0.790316  0.285571\n",
       "7  0.605089 -1.471492 -0.807196  1.609611\n",
       "8 -1.024564 -0.014769 -0.586207  1.123556\n",
       "\n",
       "[9 rows x 4 columns]"
      ]
     },
     "execution_count": 7,
     "metadata": {},
     "output_type": "execute_result"
    }
   ],
   "source": [
    "df.columns = [['No1', 'No2', 'No3', 'No4']]\n",
    "df"
   ]
  },
  {
   "cell_type": "markdown",
   "metadata": {},
   "source": [
    "    取出‘No2’列的所以为3的数据："
   ]
  },
  {
   "cell_type": "code",
   "execution_count": 9,
   "metadata": {
    "collapsed": false
   },
   "outputs": [
    {
     "data": {
      "text/plain": [
       "0.98915900396196976"
      ]
     },
     "execution_count": 9,
     "metadata": {},
     "output_type": "execute_result"
    }
   ],
   "source": [
    "df['No2'][3]"
   ]
  },
  {
   "cell_type": "markdown",
   "metadata": {},
   "source": [
    "    将上述的数据按照日期进行索引，先生成日期索引，然后更换DataFrame中的索引："
   ]
  },
  {
   "cell_type": "code",
   "execution_count": 13,
   "metadata": {
    "collapsed": false
   },
   "outputs": [
    {
     "data": {
      "text/html": [
       "<div style=\"max-height:1000px;max-width:1500px;overflow:auto;\">\n",
       "<table border=\"1\" class=\"dataframe\">\n",
       "  <thead>\n",
       "    <tr style=\"text-align: right;\">\n",
       "      <th></th>\n",
       "      <th>No1</th>\n",
       "      <th>No2</th>\n",
       "      <th>No3</th>\n",
       "      <th>No4</th>\n",
       "    </tr>\n",
       "  </thead>\n",
       "  <tbody>\n",
       "    <tr>\n",
       "      <th>2015-01-31</th>\n",
       "      <td> 0.840714</td>\n",
       "      <td>-0.161328</td>\n",
       "      <td> 0.883852</td>\n",
       "      <td>-1.081878</td>\n",
       "    </tr>\n",
       "    <tr>\n",
       "      <th>2015-02-28</th>\n",
       "      <td> 0.668495</td>\n",
       "      <td>-1.505457</td>\n",
       "      <td>-0.920470</td>\n",
       "      <td> 0.328360</td>\n",
       "    </tr>\n",
       "    <tr>\n",
       "      <th>2015-03-31</th>\n",
       "      <td>-0.432335</td>\n",
       "      <td> 0.153893</td>\n",
       "      <td>-0.632531</td>\n",
       "      <td>-1.197962</td>\n",
       "    </tr>\n",
       "    <tr>\n",
       "      <th>2015-04-30</th>\n",
       "      <td>-0.984301</td>\n",
       "      <td> 0.989159</td>\n",
       "      <td> 1.430380</td>\n",
       "      <td> 0.683963</td>\n",
       "    </tr>\n",
       "    <tr>\n",
       "      <th>2015-05-31</th>\n",
       "      <td>-0.719894</td>\n",
       "      <td> 0.705136</td>\n",
       "      <td> 0.296284</td>\n",
       "      <td> 0.825621</td>\n",
       "    </tr>\n",
       "    <tr>\n",
       "      <th>2015-06-30</th>\n",
       "      <td>-1.084608</td>\n",
       "      <td> 1.413212</td>\n",
       "      <td>-0.673816</td>\n",
       "      <td>-0.436184</td>\n",
       "    </tr>\n",
       "    <tr>\n",
       "      <th>2015-07-31</th>\n",
       "      <td> 0.232442</td>\n",
       "      <td> 0.906716</td>\n",
       "      <td> 0.790316</td>\n",
       "      <td> 0.285571</td>\n",
       "    </tr>\n",
       "    <tr>\n",
       "      <th>2015-08-31</th>\n",
       "      <td> 0.605089</td>\n",
       "      <td>-1.471492</td>\n",
       "      <td>-0.807196</td>\n",
       "      <td> 1.609611</td>\n",
       "    </tr>\n",
       "    <tr>\n",
       "      <th>2015-09-30</th>\n",
       "      <td>-1.024564</td>\n",
       "      <td>-0.014769</td>\n",
       "      <td>-0.586207</td>\n",
       "      <td> 1.123556</td>\n",
       "    </tr>\n",
       "  </tbody>\n",
       "</table>\n",
       "<p>9 rows × 4 columns</p>\n",
       "</div>"
      ],
      "text/plain": [
       "                 No1       No2       No3       No4\n",
       "2015-01-31  0.840714 -0.161328  0.883852 -1.081878\n",
       "2015-02-28  0.668495 -1.505457 -0.920470  0.328360\n",
       "2015-03-31 -0.432335  0.153893 -0.632531 -1.197962\n",
       "2015-04-30 -0.984301  0.989159  1.430380  0.683963\n",
       "2015-05-31 -0.719894  0.705136  0.296284  0.825621\n",
       "2015-06-30 -1.084608  1.413212 -0.673816 -0.436184\n",
       "2015-07-31  0.232442  0.906716  0.790316  0.285571\n",
       "2015-08-31  0.605089 -1.471492 -0.807196  1.609611\n",
       "2015-09-30 -1.024564 -0.014769 -0.586207  1.123556\n",
       "\n",
       "[9 rows x 4 columns]"
      ]
     },
     "execution_count": 13,
     "metadata": {},
     "output_type": "execute_result"
    }
   ],
   "source": [
    "dates = pd.date_range('2015-1-1', periods=9, freq='M')\n",
    "dates\n",
    "df.index=dates\n",
    "df"
   ]
  },
  {
   "cell_type": "markdown",
   "metadata": {},
   "source": [
    "    按照月度的频率，一共生成9期。"
   ]
  },
  {
   "cell_type": "markdown",
   "metadata": {},
   "source": [
    "    对于"
   ]
  },
  {
   "cell_type": "code",
   "execution_count": 14,
   "metadata": {
    "collapsed": false
   },
   "outputs": [
    {
     "data": {
      "text/plain": [
       "No1   -1.898962\n",
       "No2    1.015070\n",
       "No3   -0.219387\n",
       "No4    2.140657\n",
       "dtype: float64"
      ]
     },
     "execution_count": 14,
     "metadata": {},
     "output_type": "execute_result"
    }
   ],
   "source": [
    "df.sum()"
   ]
  }
 ],
 "metadata": {
  "kernelspec": {
   "display_name": "Python 2",
   "language": "python",
   "name": "python2"
  },
  "language_info": {
   "codemirror_mode": {
    "name": "ipython",
    "version": 2
   },
   "file_extension": ".py",
   "mimetype": "text/x-python",
   "name": "python",
   "nbconvert_exporter": "python",
   "pygments_lexer": "ipython2",
   "version": "2.7.6"
  }
 },
 "nbformat": 4,
 "nbformat_minor": 0
}
