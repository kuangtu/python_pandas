{
 "cells": [
  {
   "cell_type": "markdown",
   "metadata": {},
   "source": [
    "## 数据时间序列"
   ]
  },
  {
   "cell_type": "markdown",
   "metadata": {},
   "source": [
    "    对于金融时间序列，通过以日期和时间为索引。比如：一段周期内的股票价格。本章基于DataFrame和Series对于对于时间序列数据的处理进行分析。"
   ]
  },
  {
   "cell_type": "markdown",
   "metadata": {},
   "source": [
    "    通过NumPy产生符合正态分布的4列数据，一共9组："
   ]
  },
  {
   "cell_type": "code",
   "execution_count": 1,
   "metadata": {
    "collapsed": false
   },
   "outputs": [
    {
     "data": {
      "text/plain": [
       "array([[-1.376738,  1.275606,  1.151987,  0.794059],\n",
       "       [-1.028658, -1.948032, -0.020286, -0.308158],\n",
       "       [-1.134787,  0.644586, -1.446376,  0.347286],\n",
       "       [ 0.428776,  0.382454, -1.302983,  0.554891],\n",
       "       [ 0.200771, -0.049584,  1.114784, -0.961057],\n",
       "       [-0.679689,  1.39213 , -0.518316, -0.501279],\n",
       "       [-0.384334,  0.147521, -2.318875, -1.745496],\n",
       "       [-0.025519,  0.18393 ,  0.512218,  0.379611],\n",
       "       [-0.845315,  0.858769,  0.123257, -0.816389]])"
      ]
     },
     "execution_count": 1,
     "metadata": {},
     "output_type": "execute_result"
    }
   ],
   "source": [
    "import numpy as np\n",
    "import pandas as pd\n",
    "a = np.random.standard_normal((9, 4))\n",
    "a.round(6)"
   ]
  },
  {
   "cell_type": "markdown",
   "metadata": {},
   "source": [
    "    通过上述的NumPy数组构建DataFrame:"
   ]
  },
  {
   "cell_type": "code",
   "execution_count": 2,
   "metadata": {
    "collapsed": false
   },
   "outputs": [
    {
     "data": {
      "text/html": [
       "<div style=\"max-height:1000px;max-width:1500px;overflow:auto;\">\n",
       "<table border=\"1\" class=\"dataframe\">\n",
       "  <thead>\n",
       "    <tr style=\"text-align: right;\">\n",
       "      <th></th>\n",
       "      <th>0</th>\n",
       "      <th>1</th>\n",
       "      <th>2</th>\n",
       "      <th>3</th>\n",
       "    </tr>\n",
       "  </thead>\n",
       "  <tbody>\n",
       "    <tr>\n",
       "      <th>0</th>\n",
       "      <td>-1.376738</td>\n",
       "      <td> 1.275606</td>\n",
       "      <td> 1.151987</td>\n",
       "      <td> 0.794059</td>\n",
       "    </tr>\n",
       "    <tr>\n",
       "      <th>1</th>\n",
       "      <td>-1.028658</td>\n",
       "      <td>-1.948032</td>\n",
       "      <td>-0.020286</td>\n",
       "      <td>-0.308158</td>\n",
       "    </tr>\n",
       "    <tr>\n",
       "      <th>2</th>\n",
       "      <td>-1.134787</td>\n",
       "      <td> 0.644586</td>\n",
       "      <td>-1.446376</td>\n",
       "      <td> 0.347286</td>\n",
       "    </tr>\n",
       "    <tr>\n",
       "      <th>3</th>\n",
       "      <td> 0.428776</td>\n",
       "      <td> 0.382454</td>\n",
       "      <td>-1.302983</td>\n",
       "      <td> 0.554891</td>\n",
       "    </tr>\n",
       "    <tr>\n",
       "      <th>4</th>\n",
       "      <td> 0.200771</td>\n",
       "      <td>-0.049584</td>\n",
       "      <td> 1.114784</td>\n",
       "      <td>-0.961057</td>\n",
       "    </tr>\n",
       "    <tr>\n",
       "      <th>5</th>\n",
       "      <td>-0.679689</td>\n",
       "      <td> 1.392130</td>\n",
       "      <td>-0.518316</td>\n",
       "      <td>-0.501279</td>\n",
       "    </tr>\n",
       "    <tr>\n",
       "      <th>6</th>\n",
       "      <td>-0.384334</td>\n",
       "      <td> 0.147521</td>\n",
       "      <td>-2.318875</td>\n",
       "      <td>-1.745496</td>\n",
       "    </tr>\n",
       "    <tr>\n",
       "      <th>7</th>\n",
       "      <td>-0.025519</td>\n",
       "      <td> 0.183930</td>\n",
       "      <td> 0.512218</td>\n",
       "      <td> 0.379611</td>\n",
       "    </tr>\n",
       "    <tr>\n",
       "      <th>8</th>\n",
       "      <td>-0.845315</td>\n",
       "      <td> 0.858769</td>\n",
       "      <td> 0.123257</td>\n",
       "      <td>-0.816389</td>\n",
       "    </tr>\n",
       "  </tbody>\n",
       "</table>\n",
       "<p>9 rows × 4 columns</p>\n",
       "</div>"
      ],
      "text/plain": [
       "          0         1         2         3\n",
       "0 -1.376738  1.275606  1.151987  0.794059\n",
       "1 -1.028658 -1.948032 -0.020286 -0.308158\n",
       "2 -1.134787  0.644586 -1.446376  0.347286\n",
       "3  0.428776  0.382454 -1.302983  0.554891\n",
       "4  0.200771 -0.049584  1.114784 -0.961057\n",
       "5 -0.679689  1.392130 -0.518316 -0.501279\n",
       "6 -0.384334  0.147521 -2.318875 -1.745496\n",
       "7 -0.025519  0.183930  0.512218  0.379611\n",
       "8 -0.845315  0.858769  0.123257 -0.816389\n",
       "\n",
       "[9 rows x 4 columns]"
      ]
     },
     "execution_count": 2,
     "metadata": {},
     "output_type": "execute_result"
    }
   ],
   "source": [
    "df = pd.DataFrame(a)\n",
    "df"
   ]
  },
  {
   "cell_type": "markdown",
   "metadata": {},
   "source": [
    "    默认列为[0,1,2,3]，每列的index索引为：0~8。对于列名重新命名："
   ]
  },
  {
   "cell_type": "code",
   "execution_count": 3,
   "metadata": {
    "collapsed": false
   },
   "outputs": [
    {
     "data": {
      "text/html": [
       "<div style=\"max-height:1000px;max-width:1500px;overflow:auto;\">\n",
       "<table border=\"1\" class=\"dataframe\">\n",
       "  <thead>\n",
       "    <tr style=\"text-align: right;\">\n",
       "      <th></th>\n",
       "      <th>No1</th>\n",
       "      <th>No2</th>\n",
       "      <th>No3</th>\n",
       "      <th>No4</th>\n",
       "    </tr>\n",
       "  </thead>\n",
       "  <tbody>\n",
       "    <tr>\n",
       "      <th>0</th>\n",
       "      <td>-1.376738</td>\n",
       "      <td> 1.275606</td>\n",
       "      <td> 1.151987</td>\n",
       "      <td> 0.794059</td>\n",
       "    </tr>\n",
       "    <tr>\n",
       "      <th>1</th>\n",
       "      <td>-1.028658</td>\n",
       "      <td>-1.948032</td>\n",
       "      <td>-0.020286</td>\n",
       "      <td>-0.308158</td>\n",
       "    </tr>\n",
       "    <tr>\n",
       "      <th>2</th>\n",
       "      <td>-1.134787</td>\n",
       "      <td> 0.644586</td>\n",
       "      <td>-1.446376</td>\n",
       "      <td> 0.347286</td>\n",
       "    </tr>\n",
       "    <tr>\n",
       "      <th>3</th>\n",
       "      <td> 0.428776</td>\n",
       "      <td> 0.382454</td>\n",
       "      <td>-1.302983</td>\n",
       "      <td> 0.554891</td>\n",
       "    </tr>\n",
       "    <tr>\n",
       "      <th>4</th>\n",
       "      <td> 0.200771</td>\n",
       "      <td>-0.049584</td>\n",
       "      <td> 1.114784</td>\n",
       "      <td>-0.961057</td>\n",
       "    </tr>\n",
       "    <tr>\n",
       "      <th>5</th>\n",
       "      <td>-0.679689</td>\n",
       "      <td> 1.392130</td>\n",
       "      <td>-0.518316</td>\n",
       "      <td>-0.501279</td>\n",
       "    </tr>\n",
       "    <tr>\n",
       "      <th>6</th>\n",
       "      <td>-0.384334</td>\n",
       "      <td> 0.147521</td>\n",
       "      <td>-2.318875</td>\n",
       "      <td>-1.745496</td>\n",
       "    </tr>\n",
       "    <tr>\n",
       "      <th>7</th>\n",
       "      <td>-0.025519</td>\n",
       "      <td> 0.183930</td>\n",
       "      <td> 0.512218</td>\n",
       "      <td> 0.379611</td>\n",
       "    </tr>\n",
       "    <tr>\n",
       "      <th>8</th>\n",
       "      <td>-0.845315</td>\n",
       "      <td> 0.858769</td>\n",
       "      <td> 0.123257</td>\n",
       "      <td>-0.816389</td>\n",
       "    </tr>\n",
       "  </tbody>\n",
       "</table>\n",
       "<p>9 rows × 4 columns</p>\n",
       "</div>"
      ],
      "text/plain": [
       "        No1       No2       No3       No4\n",
       "0 -1.376738  1.275606  1.151987  0.794059\n",
       "1 -1.028658 -1.948032 -0.020286 -0.308158\n",
       "2 -1.134787  0.644586 -1.446376  0.347286\n",
       "3  0.428776  0.382454 -1.302983  0.554891\n",
       "4  0.200771 -0.049584  1.114784 -0.961057\n",
       "5 -0.679689  1.392130 -0.518316 -0.501279\n",
       "6 -0.384334  0.147521 -2.318875 -1.745496\n",
       "7 -0.025519  0.183930  0.512218  0.379611\n",
       "8 -0.845315  0.858769  0.123257 -0.816389\n",
       "\n",
       "[9 rows x 4 columns]"
      ]
     },
     "execution_count": 3,
     "metadata": {},
     "output_type": "execute_result"
    }
   ],
   "source": [
    "df.columns = [['No1', 'No2', 'No3', 'No4']]\n",
    "df"
   ]
  },
  {
   "cell_type": "markdown",
   "metadata": {},
   "source": [
    "    取出‘No2’列的所以为3的数据："
   ]
  },
  {
   "cell_type": "code",
   "execution_count": 4,
   "metadata": {
    "collapsed": false
   },
   "outputs": [
    {
     "data": {
      "text/plain": [
       "0.38245444582171906"
      ]
     },
     "execution_count": 4,
     "metadata": {},
     "output_type": "execute_result"
    }
   ],
   "source": [
    "df['No2'][3]"
   ]
  },
  {
   "cell_type": "markdown",
   "metadata": {},
   "source": [
    "    将上述的数据按照日期进行索引，先生成日期索引，然后更换DataFrame中的索引："
   ]
  },
  {
   "cell_type": "code",
   "execution_count": 5,
   "metadata": {
    "collapsed": false
   },
   "outputs": [
    {
     "data": {
      "text/html": [
       "<div style=\"max-height:1000px;max-width:1500px;overflow:auto;\">\n",
       "<table border=\"1\" class=\"dataframe\">\n",
       "  <thead>\n",
       "    <tr style=\"text-align: right;\">\n",
       "      <th></th>\n",
       "      <th>No1</th>\n",
       "      <th>No2</th>\n",
       "      <th>No3</th>\n",
       "      <th>No4</th>\n",
       "    </tr>\n",
       "  </thead>\n",
       "  <tbody>\n",
       "    <tr>\n",
       "      <th>2015-01-31</th>\n",
       "      <td>-1.376738</td>\n",
       "      <td> 1.275606</td>\n",
       "      <td> 1.151987</td>\n",
       "      <td> 0.794059</td>\n",
       "    </tr>\n",
       "    <tr>\n",
       "      <th>2015-02-28</th>\n",
       "      <td>-1.028658</td>\n",
       "      <td>-1.948032</td>\n",
       "      <td>-0.020286</td>\n",
       "      <td>-0.308158</td>\n",
       "    </tr>\n",
       "    <tr>\n",
       "      <th>2015-03-31</th>\n",
       "      <td>-1.134787</td>\n",
       "      <td> 0.644586</td>\n",
       "      <td>-1.446376</td>\n",
       "      <td> 0.347286</td>\n",
       "    </tr>\n",
       "    <tr>\n",
       "      <th>2015-04-30</th>\n",
       "      <td> 0.428776</td>\n",
       "      <td> 0.382454</td>\n",
       "      <td>-1.302983</td>\n",
       "      <td> 0.554891</td>\n",
       "    </tr>\n",
       "    <tr>\n",
       "      <th>2015-05-31</th>\n",
       "      <td> 0.200771</td>\n",
       "      <td>-0.049584</td>\n",
       "      <td> 1.114784</td>\n",
       "      <td>-0.961057</td>\n",
       "    </tr>\n",
       "    <tr>\n",
       "      <th>2015-06-30</th>\n",
       "      <td>-0.679689</td>\n",
       "      <td> 1.392130</td>\n",
       "      <td>-0.518316</td>\n",
       "      <td>-0.501279</td>\n",
       "    </tr>\n",
       "    <tr>\n",
       "      <th>2015-07-31</th>\n",
       "      <td>-0.384334</td>\n",
       "      <td> 0.147521</td>\n",
       "      <td>-2.318875</td>\n",
       "      <td>-1.745496</td>\n",
       "    </tr>\n",
       "    <tr>\n",
       "      <th>2015-08-31</th>\n",
       "      <td>-0.025519</td>\n",
       "      <td> 0.183930</td>\n",
       "      <td> 0.512218</td>\n",
       "      <td> 0.379611</td>\n",
       "    </tr>\n",
       "    <tr>\n",
       "      <th>2015-09-30</th>\n",
       "      <td>-0.845315</td>\n",
       "      <td> 0.858769</td>\n",
       "      <td> 0.123257</td>\n",
       "      <td>-0.816389</td>\n",
       "    </tr>\n",
       "  </tbody>\n",
       "</table>\n",
       "<p>9 rows × 4 columns</p>\n",
       "</div>"
      ],
      "text/plain": [
       "                 No1       No2       No3       No4\n",
       "2015-01-31 -1.376738  1.275606  1.151987  0.794059\n",
       "2015-02-28 -1.028658 -1.948032 -0.020286 -0.308158\n",
       "2015-03-31 -1.134787  0.644586 -1.446376  0.347286\n",
       "2015-04-30  0.428776  0.382454 -1.302983  0.554891\n",
       "2015-05-31  0.200771 -0.049584  1.114784 -0.961057\n",
       "2015-06-30 -0.679689  1.392130 -0.518316 -0.501279\n",
       "2015-07-31 -0.384334  0.147521 -2.318875 -1.745496\n",
       "2015-08-31 -0.025519  0.183930  0.512218  0.379611\n",
       "2015-09-30 -0.845315  0.858769  0.123257 -0.816389\n",
       "\n",
       "[9 rows x 4 columns]"
      ]
     },
     "execution_count": 5,
     "metadata": {},
     "output_type": "execute_result"
    }
   ],
   "source": [
    "dates = pd.date_range('2015-1-1', periods=9, freq='M')\n",
    "dates\n",
    "df.index=dates\n",
    "df"
   ]
  },
  {
   "cell_type": "markdown",
   "metadata": {},
   "source": [
    "    按照月度的频率，一共生成9期。"
   ]
  },
  {
   "cell_type": "markdown",
   "metadata": {},
   "source": [
    "    对于各列求和："
   ]
  },
  {
   "cell_type": "code",
   "execution_count": 6,
   "metadata": {
    "collapsed": false
   },
   "outputs": [
    {
     "data": {
      "text/plain": [
       "No1   -4.845493\n",
       "No2    2.887381\n",
       "No3   -2.704591\n",
       "No4   -2.256532\n",
       "dtype: float64"
      ]
     },
     "execution_count": 6,
     "metadata": {},
     "output_type": "execute_result"
    }
   ],
   "source": [
    "df.sum()"
   ]
  },
  {
   "cell_type": "markdown",
   "metadata": {},
   "source": [
    "    对于上述的数据输入统计信息，DataFrame中有describe方法:"
   ]
  },
  {
   "cell_type": "code",
   "execution_count": 7,
   "metadata": {
    "collapsed": false
   },
   "outputs": [
    {
     "data": {
      "text/html": [
       "<div style=\"max-height:1000px;max-width:1500px;overflow:auto;\">\n",
       "<table border=\"1\" class=\"dataframe\">\n",
       "  <thead>\n",
       "    <tr style=\"text-align: right;\">\n",
       "      <th></th>\n",
       "      <th>No1</th>\n",
       "      <th>No2</th>\n",
       "      <th>No3</th>\n",
       "      <th>No4</th>\n",
       "    </tr>\n",
       "  </thead>\n",
       "  <tbody>\n",
       "    <tr>\n",
       "      <th>count</th>\n",
       "      <td> 9.000000</td>\n",
       "      <td> 9.000000</td>\n",
       "      <td> 9.000000</td>\n",
       "      <td> 9.000000</td>\n",
       "    </tr>\n",
       "    <tr>\n",
       "      <th>mean</th>\n",
       "      <td>-0.538388</td>\n",
       "      <td> 0.320820</td>\n",
       "      <td>-0.300510</td>\n",
       "      <td>-0.250726</td>\n",
       "    </tr>\n",
       "    <tr>\n",
       "      <th>std</th>\n",
       "      <td> 0.630633</td>\n",
       "      <td> 0.986851</td>\n",
       "      <td> 1.197426</td>\n",
       "      <td> 0.838190</td>\n",
       "    </tr>\n",
       "    <tr>\n",
       "      <th>min</th>\n",
       "      <td>-1.376738</td>\n",
       "      <td>-1.948032</td>\n",
       "      <td>-2.318875</td>\n",
       "      <td>-1.745496</td>\n",
       "    </tr>\n",
       "    <tr>\n",
       "      <th>25%</th>\n",
       "      <td>-1.028658</td>\n",
       "      <td> 0.147521</td>\n",
       "      <td>-1.302983</td>\n",
       "      <td>-0.816389</td>\n",
       "    </tr>\n",
       "    <tr>\n",
       "      <th>50%</th>\n",
       "      <td>-0.679689</td>\n",
       "      <td> 0.382454</td>\n",
       "      <td>-0.020286</td>\n",
       "      <td>-0.308158</td>\n",
       "    </tr>\n",
       "    <tr>\n",
       "      <th>75%</th>\n",
       "      <td>-0.025519</td>\n",
       "      <td> 0.858769</td>\n",
       "      <td> 0.512218</td>\n",
       "      <td> 0.379611</td>\n",
       "    </tr>\n",
       "    <tr>\n",
       "      <th>max</th>\n",
       "      <td> 0.428776</td>\n",
       "      <td> 1.392130</td>\n",
       "      <td> 1.151987</td>\n",
       "      <td> 0.794059</td>\n",
       "    </tr>\n",
       "  </tbody>\n",
       "</table>\n",
       "<p>8 rows × 4 columns</p>\n",
       "</div>"
      ],
      "text/plain": [
       "            No1       No2       No3       No4\n",
       "count  9.000000  9.000000  9.000000  9.000000\n",
       "mean  -0.538388  0.320820 -0.300510 -0.250726\n",
       "std    0.630633  0.986851  1.197426  0.838190\n",
       "min   -1.376738 -1.948032 -2.318875 -1.745496\n",
       "25%   -1.028658  0.147521 -1.302983 -0.816389\n",
       "50%   -0.679689  0.382454 -0.020286 -0.308158\n",
       "75%   -0.025519  0.858769  0.512218  0.379611\n",
       "max    0.428776  1.392130  1.151987  0.794059\n",
       "\n",
       "[8 rows x 4 columns]"
      ]
     },
     "execution_count": 7,
     "metadata": {},
     "output_type": "execute_result"
    }
   ],
   "source": [
    "df.describe()"
   ]
  },
  {
   "cell_type": "markdown",
   "metadata": {},
   "source": [
    "    对于上述的'No1'列累加值进行绘图："
   ]
  },
  {
   "cell_type": "code",
   "execution_count": 8,
   "metadata": {
    "collapsed": false
   },
   "outputs": [
    {
     "data": {
      "text/plain": [
       "<matplotlib.text.Text at 0xb2a8fd0>"
      ]
     },
     "execution_count": 8,
     "metadata": {},
     "output_type": "execute_result"
    },
    {
     "data": {
      "image/png": "[encoded data removed]",
      "text/plain": [
       "<matplotlib.figure.Figure at 0xb2a33d0>"
      ]
     },
     "metadata": {},
     "output_type": "display_data"
    }
   ],
   "source": [
    "import matplotlib.pyplot as plt\n",
    "%matplotlib inline\n",
    "df['No1'].cumsum().plot(style='r',lw=2)\n",
    "plt.xlabel('date')\n",
    "plt.ylabel('value')"
   ]
  },
  {
   "cell_type": "markdown",
   "metadata": {},
   "source": [
    "## 分组操作"
   ]
  },
  {
   "cell_type": "markdown",
   "metadata": {},
   "source": [
    "    pandas具有很强的数据分组操作能力，基于之前的例子，我们新增一列，通过月度进行分组："
   ]
  },
  {
   "cell_type": "code",
   "execution_count": 9,
   "metadata": {
    "collapsed": false
   },
   "outputs": [
    {
     "data": {
      "text/html": [
       "<div style=\"max-height:1000px;max-width:1500px;overflow:auto;\">\n",
       "<table border=\"1\" class=\"dataframe\">\n",
       "  <thead>\n",
       "    <tr style=\"text-align: right;\">\n",
       "      <th></th>\n",
       "      <th>No1</th>\n",
       "      <th>No2</th>\n",
       "      <th>No3</th>\n",
       "      <th>No4</th>\n",
       "      <th>Quarter</th>\n",
       "    </tr>\n",
       "  </thead>\n",
       "  <tbody>\n",
       "    <tr>\n",
       "      <th>2015-01-31</th>\n",
       "      <td>-1.376738</td>\n",
       "      <td> 1.275606</td>\n",
       "      <td> 1.151987</td>\n",
       "      <td> 0.794059</td>\n",
       "      <td> Q1</td>\n",
       "    </tr>\n",
       "    <tr>\n",
       "      <th>2015-02-28</th>\n",
       "      <td>-1.028658</td>\n",
       "      <td>-1.948032</td>\n",
       "      <td>-0.020286</td>\n",
       "      <td>-0.308158</td>\n",
       "      <td> Q1</td>\n",
       "    </tr>\n",
       "    <tr>\n",
       "      <th>2015-03-31</th>\n",
       "      <td>-1.134787</td>\n",
       "      <td> 0.644586</td>\n",
       "      <td>-1.446376</td>\n",
       "      <td> 0.347286</td>\n",
       "      <td> Q1</td>\n",
       "    </tr>\n",
       "    <tr>\n",
       "      <th>2015-04-30</th>\n",
       "      <td> 0.428776</td>\n",
       "      <td> 0.382454</td>\n",
       "      <td>-1.302983</td>\n",
       "      <td> 0.554891</td>\n",
       "      <td> Q2</td>\n",
       "    </tr>\n",
       "    <tr>\n",
       "      <th>2015-05-31</th>\n",
       "      <td> 0.200771</td>\n",
       "      <td>-0.049584</td>\n",
       "      <td> 1.114784</td>\n",
       "      <td>-0.961057</td>\n",
       "      <td> Q2</td>\n",
       "    </tr>\n",
       "    <tr>\n",
       "      <th>2015-06-30</th>\n",
       "      <td>-0.679689</td>\n",
       "      <td> 1.392130</td>\n",
       "      <td>-0.518316</td>\n",
       "      <td>-0.501279</td>\n",
       "      <td> Q2</td>\n",
       "    </tr>\n",
       "    <tr>\n",
       "      <th>2015-07-31</th>\n",
       "      <td>-0.384334</td>\n",
       "      <td> 0.147521</td>\n",
       "      <td>-2.318875</td>\n",
       "      <td>-1.745496</td>\n",
       "      <td> Q3</td>\n",
       "    </tr>\n",
       "    <tr>\n",
       "      <th>2015-08-31</th>\n",
       "      <td>-0.025519</td>\n",
       "      <td> 0.183930</td>\n",
       "      <td> 0.512218</td>\n",
       "      <td> 0.379611</td>\n",
       "      <td> Q3</td>\n",
       "    </tr>\n",
       "    <tr>\n",
       "      <th>2015-09-30</th>\n",
       "      <td>-0.845315</td>\n",
       "      <td> 0.858769</td>\n",
       "      <td> 0.123257</td>\n",
       "      <td>-0.816389</td>\n",
       "      <td> Q3</td>\n",
       "    </tr>\n",
       "  </tbody>\n",
       "</table>\n",
       "<p>9 rows × 5 columns</p>\n",
       "</div>"
      ],
      "text/plain": [
       "                 No1       No2       No3       No4 Quarter\n",
       "2015-01-31 -1.376738  1.275606  1.151987  0.794059      Q1\n",
       "2015-02-28 -1.028658 -1.948032 -0.020286 -0.308158      Q1\n",
       "2015-03-31 -1.134787  0.644586 -1.446376  0.347286      Q1\n",
       "2015-04-30  0.428776  0.382454 -1.302983  0.554891      Q2\n",
       "2015-05-31  0.200771 -0.049584  1.114784 -0.961057      Q2\n",
       "2015-06-30 -0.679689  1.392130 -0.518316 -0.501279      Q2\n",
       "2015-07-31 -0.384334  0.147521 -2.318875 -1.745496      Q3\n",
       "2015-08-31 -0.025519  0.183930  0.512218  0.379611      Q3\n",
       "2015-09-30 -0.845315  0.858769  0.123257 -0.816389      Q3\n",
       "\n",
       "[9 rows x 5 columns]"
      ]
     },
     "execution_count": 9,
     "metadata": {},
     "output_type": "execute_result"
    }
   ],
   "source": [
    "df['Quarter'] = ['Q1', 'Q1', 'Q1', 'Q2', 'Q2', 'Q2', 'Q3', 'Q3', 'Q3']\n",
    "df"
   ]
  },
  {
   "cell_type": "markdown",
   "metadata": {},
   "source": [
    "   上面的DataFrame增加了Quarter列，其中的值为字符串'Q1'...'Q3'."
   ]
  },
  {
   "cell_type": "code",
   "execution_count": 10,
   "metadata": {
    "collapsed": false
   },
   "outputs": [],
   "source": [
    "groups = df.groupby('Quarter')"
   ]
  },
  {
   "cell_type": "markdown",
   "metadata": {},
   "source": [
    "    按照'Quarter'列进行分组。"
   ]
  },
  {
   "cell_type": "code",
   "execution_count": 11,
   "metadata": {
    "collapsed": false
   },
   "outputs": [
    {
     "data": {
      "text/html": [
       "<div style=\"max-height:1000px;max-width:1500px;overflow:auto;\">\n",
       "<table border=\"1\" class=\"dataframe\">\n",
       "  <thead>\n",
       "    <tr style=\"text-align: right;\">\n",
       "      <th></th>\n",
       "      <th>No1</th>\n",
       "      <th>No2</th>\n",
       "      <th>No3</th>\n",
       "      <th>No4</th>\n",
       "    </tr>\n",
       "    <tr>\n",
       "      <th>Quarter</th>\n",
       "      <th></th>\n",
       "      <th></th>\n",
       "      <th></th>\n",
       "      <th></th>\n",
       "    </tr>\n",
       "  </thead>\n",
       "  <tbody>\n",
       "    <tr>\n",
       "      <th>Q1</th>\n",
       "      <td>-1.180061</td>\n",
       "      <td>-0.00928</td>\n",
       "      <td>-0.104892</td>\n",
       "      <td> 0.277729</td>\n",
       "    </tr>\n",
       "    <tr>\n",
       "      <th>Q2</th>\n",
       "      <td>-0.016714</td>\n",
       "      <td> 0.57500</td>\n",
       "      <td>-0.235505</td>\n",
       "      <td>-0.302482</td>\n",
       "    </tr>\n",
       "    <tr>\n",
       "      <th>Q3</th>\n",
       "      <td>-0.418389</td>\n",
       "      <td> 0.39674</td>\n",
       "      <td>-0.561133</td>\n",
       "      <td>-0.727425</td>\n",
       "    </tr>\n",
       "  </tbody>\n",
       "</table>\n",
       "<p>3 rows × 4 columns</p>\n",
       "</div>"
      ],
      "text/plain": [
       "              No1      No2       No3       No4\n",
       "Quarter                                       \n",
       "Q1      -1.180061 -0.00928 -0.104892  0.277729\n",
       "Q2      -0.016714  0.57500 -0.235505 -0.302482\n",
       "Q3      -0.418389  0.39674 -0.561133 -0.727425\n",
       "\n",
       "[3 rows x 4 columns]"
      ]
     },
     "execution_count": 11,
     "metadata": {},
     "output_type": "execute_result"
    }
   ],
   "source": [
    "groups.mean()"
   ]
  },
  {
   "cell_type": "markdown",
   "metadata": {},
   "source": [
    "    基于'Quarter'进行分组后，对于其他列的值求出平均值。"
   ]
  },
  {
   "cell_type": "code",
   "execution_count": 12,
   "metadata": {
    "collapsed": false
   },
   "outputs": [
    {
     "data": {
      "text/html": [
       "<div style=\"max-height:1000px;max-width:1500px;overflow:auto;\">\n",
       "<table border=\"1\" class=\"dataframe\">\n",
       "  <thead>\n",
       "    <tr style=\"text-align: right;\">\n",
       "      <th></th>\n",
       "      <th>No1</th>\n",
       "      <th>No2</th>\n",
       "      <th>No3</th>\n",
       "      <th>No4</th>\n",
       "    </tr>\n",
       "    <tr>\n",
       "      <th>Quarter</th>\n",
       "      <th></th>\n",
       "      <th></th>\n",
       "      <th></th>\n",
       "      <th></th>\n",
       "    </tr>\n",
       "  </thead>\n",
       "  <tbody>\n",
       "    <tr>\n",
       "      <th>Q1</th>\n",
       "      <td>-1.028658</td>\n",
       "      <td> 1.275606</td>\n",
       "      <td> 1.151987</td>\n",
       "      <td> 0.794059</td>\n",
       "    </tr>\n",
       "    <tr>\n",
       "      <th>Q2</th>\n",
       "      <td> 0.428776</td>\n",
       "      <td> 1.392130</td>\n",
       "      <td> 1.114784</td>\n",
       "      <td> 0.554891</td>\n",
       "    </tr>\n",
       "    <tr>\n",
       "      <th>Q3</th>\n",
       "      <td>-0.025519</td>\n",
       "      <td> 0.858769</td>\n",
       "      <td> 0.512218</td>\n",
       "      <td> 0.379611</td>\n",
       "    </tr>\n",
       "  </tbody>\n",
       "</table>\n",
       "<p>3 rows × 4 columns</p>\n",
       "</div>"
      ],
      "text/plain": [
       "              No1       No2       No3       No4\n",
       "Quarter                                        \n",
       "Q1      -1.028658  1.275606  1.151987  0.794059\n",
       "Q2       0.428776  1.392130  1.114784  0.554891\n",
       "Q3      -0.025519  0.858769  0.512218  0.379611\n",
       "\n",
       "[3 rows x 4 columns]"
      ]
     },
     "execution_count": 12,
     "metadata": {},
     "output_type": "execute_result"
    }
   ],
   "source": [
    "groups.max()"
   ]
  },
  {
   "cell_type": "markdown",
   "metadata": {},
   "source": [
    "   基于'Quarter'进行分组后，对于其他列的值求出最大值。"
   ]
  },
  {
   "cell_type": "markdown",
   "metadata": {},
   "source": [
    "## 多列分组"
   ]
  },
  {
   "cell_type": "markdown",
   "metadata": {},
   "source": [
    "    可以基于多列进行分组。基于上面的数据，再增加一列："
   ]
  },
  {
   "cell_type": "code",
   "execution_count": 13,
   "metadata": {
    "collapsed": false
   },
   "outputs": [],
   "source": [
    "df['Odd_Even'] = ['Odd', 'Even', 'Odd', 'Even', 'Odd', 'Even',\n",
    "'Odd', 'Even', 'Odd']"
   ]
  },
  {
   "cell_type": "markdown",
   "metadata": {},
   "source": [
    "    增加一列'Odd_Even'，根据'Quarter'和'Odd_Even'进行分组。"
   ]
  },
  {
   "cell_type": "code",
   "execution_count": 14,
   "metadata": {
    "collapsed": false
   },
   "outputs": [
    {
     "data": {
      "text/plain": [
       "Quarter  Odd_Even\n",
       "Q1       Even        1\n",
       "         Odd         2\n",
       "Q2       Even        2\n",
       "         Odd         1\n",
       "Q3       Even        1\n",
       "         Odd         2\n",
       "dtype: int64"
      ]
     },
     "execution_count": 14,
     "metadata": {},
     "output_type": "execute_result"
    }
   ],
   "source": [
    "groups = df.groupby(['Quarter', 'Odd_Even'])\n",
    "groups.size()"
   ]
  },
  {
   "cell_type": "code",
   "execution_count": 15,
   "metadata": {
    "collapsed": false
   },
   "outputs": [
    {
     "data": {
      "text/html": [
       "<div style=\"max-height:1000px;max-width:1500px;overflow:auto;\">\n",
       "<table border=\"1\" class=\"dataframe\">\n",
       "  <thead>\n",
       "    <tr style=\"text-align: right;\">\n",
       "      <th></th>\n",
       "      <th></th>\n",
       "      <th>No1</th>\n",
       "      <th>No2</th>\n",
       "      <th>No3</th>\n",
       "      <th>No4</th>\n",
       "    </tr>\n",
       "    <tr>\n",
       "      <th>Quarter</th>\n",
       "      <th>Odd_Even</th>\n",
       "      <th></th>\n",
       "      <th></th>\n",
       "      <th></th>\n",
       "      <th></th>\n",
       "    </tr>\n",
       "  </thead>\n",
       "  <tbody>\n",
       "    <tr>\n",
       "      <th rowspan=\"2\" valign=\"top\">Q1</th>\n",
       "      <th>Even</th>\n",
       "      <td>-1.028658</td>\n",
       "      <td>-1.948032</td>\n",
       "      <td>-0.020286</td>\n",
       "      <td>-0.308158</td>\n",
       "    </tr>\n",
       "    <tr>\n",
       "      <th>Odd</th>\n",
       "      <td>-1.255763</td>\n",
       "      <td> 0.960096</td>\n",
       "      <td>-0.147195</td>\n",
       "      <td> 0.570672</td>\n",
       "    </tr>\n",
       "    <tr>\n",
       "      <th rowspan=\"2\" valign=\"top\">Q2</th>\n",
       "      <th>Even</th>\n",
       "      <td>-0.125457</td>\n",
       "      <td> 0.887292</td>\n",
       "      <td>-0.910649</td>\n",
       "      <td> 0.026806</td>\n",
       "    </tr>\n",
       "    <tr>\n",
       "      <th>Odd</th>\n",
       "      <td> 0.200771</td>\n",
       "      <td>-0.049584</td>\n",
       "      <td> 1.114784</td>\n",
       "      <td>-0.961057</td>\n",
       "    </tr>\n",
       "    <tr>\n",
       "      <th rowspan=\"2\" valign=\"top\">Q3</th>\n",
       "      <th>Even</th>\n",
       "      <td>-0.025519</td>\n",
       "      <td> 0.183930</td>\n",
       "      <td> 0.512218</td>\n",
       "      <td> 0.379611</td>\n",
       "    </tr>\n",
       "    <tr>\n",
       "      <th>Odd</th>\n",
       "      <td>-0.614824</td>\n",
       "      <td> 0.503145</td>\n",
       "      <td>-1.097809</td>\n",
       "      <td>-1.280942</td>\n",
       "    </tr>\n",
       "  </tbody>\n",
       "</table>\n",
       "<p>6 rows × 4 columns</p>\n",
       "</div>"
      ],
      "text/plain": [
       "                       No1       No2       No3       No4\n",
       "Quarter Odd_Even                                        \n",
       "Q1      Even     -1.028658 -1.948032 -0.020286 -0.308158\n",
       "        Odd      -1.255763  0.960096 -0.147195  0.570672\n",
       "Q2      Even     -0.125457  0.887292 -0.910649  0.026806\n",
       "        Odd       0.200771 -0.049584  1.114784 -0.961057\n",
       "Q3      Even     -0.025519  0.183930  0.512218  0.379611\n",
       "        Odd      -0.614824  0.503145 -1.097809 -1.280942\n",
       "\n",
       "[6 rows x 4 columns]"
      ]
     },
     "execution_count": 15,
     "metadata": {},
     "output_type": "execute_result"
    }
   ],
   "source": [
    " groups.mean()"
   ]
  },
  {
   "cell_type": "markdown",
   "metadata": {},
   "source": [
    "    基于两列对于数据进行分组。"
   ]
  },
  {
   "cell_type": "markdown",
   "metadata": {},
   "source": [
    "## 金融数据"
   ]
  },
  {
   "cell_type": "markdown",
   "metadata": {},
   "source": [
    "    通过pandas内建的DataReader函数从Yahoo主页抓取金融数据并进行分析展示。"
   ]
  },
  {
   "cell_type": "code",
   "execution_count": 16,
   "metadata": {
    "collapsed": false
   },
   "outputs": [
    {
     "name": "stdout",
     "output_type": "stream",
     "text": [
      "<class 'pandas.core.frame.DataFrame'>\n",
      "DatetimeIndex: 252 entries, 2015-01-02 00:00:00 to 2015-12-31 00:00:00\n",
      "Data columns (total 6 columns):\n",
      "Open         252 non-null float64\n",
      "High         252 non-null float64\n",
      "Low          252 non-null float64\n",
      "Close        252 non-null float64\n",
      "Volume       252 non-null int64\n",
      "Adj Close    252 non-null float64\n",
      "dtypes: float64(5), int64(1)"
     ]
    }
   ],
   "source": [
    "import pandas.io.data as web\n",
    "SP = web.DataReader(name='^GSPC', data_source='yahoo',start='2015-1-1',end='2016-1-1')\n",
    "SP.info()"
   ]
  },
  {
   "cell_type": "markdown",
   "metadata": {},
   "source": [
    "    从yahoo网站获取了标普指数从2005年到2016年的数据，一共2769条记录。"
   ]
  },
  {
   "cell_type": "markdown",
   "metadata": {},
   "source": [
    "   展示最后的五条记录。"
   ]
  },
  {
   "cell_type": "code",
   "execution_count": 17,
   "metadata": {
    "collapsed": false
   },
   "outputs": [
    {
     "data": {
      "text/html": [
       "<div style=\"max-height:1000px;max-width:1500px;overflow:auto;\">\n",
       "<table border=\"1\" class=\"dataframe\">\n",
       "  <thead>\n",
       "    <tr style=\"text-align: right;\">\n",
       "      <th></th>\n",
       "      <th>Open</th>\n",
       "      <th>High</th>\n",
       "      <th>Low</th>\n",
       "      <th>Close</th>\n",
       "      <th>Volume</th>\n",
       "      <th>Adj Close</th>\n",
       "    </tr>\n",
       "    <tr>\n",
       "      <th>Date</th>\n",
       "      <th></th>\n",
       "      <th></th>\n",
       "      <th></th>\n",
       "      <th></th>\n",
       "      <th></th>\n",
       "      <th></th>\n",
       "    </tr>\n",
       "  </thead>\n",
       "  <tbody>\n",
       "    <tr>\n",
       "      <th>2015-12-24</th>\n",
       "      <td> 2063.520020</td>\n",
       "      <td> 2067.360107</td>\n",
       "      <td> 2058.729980</td>\n",
       "      <td> 2060.989990</td>\n",
       "      <td> 1411860000</td>\n",
       "      <td> 2060.989990</td>\n",
       "    </tr>\n",
       "    <tr>\n",
       "      <th>2015-12-28</th>\n",
       "      <td> 2057.770020</td>\n",
       "      <td> 2057.770020</td>\n",
       "      <td> 2044.199951</td>\n",
       "      <td> 2056.500000</td>\n",
       "      <td> 2492510000</td>\n",
       "      <td> 2056.500000</td>\n",
       "    </tr>\n",
       "    <tr>\n",
       "      <th>2015-12-29</th>\n",
       "      <td> 2060.540039</td>\n",
       "      <td> 2081.560059</td>\n",
       "      <td> 2060.540039</td>\n",
       "      <td> 2078.360107</td>\n",
       "      <td> 2542000000</td>\n",
       "      <td> 2078.360107</td>\n",
       "    </tr>\n",
       "    <tr>\n",
       "      <th>2015-12-30</th>\n",
       "      <td> 2077.340088</td>\n",
       "      <td> 2077.340088</td>\n",
       "      <td> 2061.969971</td>\n",
       "      <td> 2063.360107</td>\n",
       "      <td> 2367430000</td>\n",
       "      <td> 2063.360107</td>\n",
       "    </tr>\n",
       "    <tr>\n",
       "      <th>2015-12-31</th>\n",
       "      <td> 2060.590088</td>\n",
       "      <td> 2062.540039</td>\n",
       "      <td> 2043.619995</td>\n",
       "      <td> 2043.939941</td>\n",
       "      <td> 2655330000</td>\n",
       "      <td> 2043.939941</td>\n",
       "    </tr>\n",
       "  </tbody>\n",
       "</table>\n",
       "<p>5 rows × 6 columns</p>\n",
       "</div>"
      ],
      "text/plain": [
       "                   Open         High          Low        Close      Volume  \\\n",
       "Date                                                                         \n",
       "2015-12-24  2063.520020  2067.360107  2058.729980  2060.989990  1411860000   \n",
       "2015-12-28  2057.770020  2057.770020  2044.199951  2056.500000  2492510000   \n",
       "2015-12-29  2060.540039  2081.560059  2060.540039  2078.360107  2542000000   \n",
       "2015-12-30  2077.340088  2077.340088  2061.969971  2063.360107  2367430000   \n",
       "2015-12-31  2060.590088  2062.540039  2043.619995  2043.939941  2655330000   \n",
       "\n",
       "              Adj Close  \n",
       "Date                     \n",
       "2015-12-24  2060.989990  \n",
       "2015-12-28  2056.500000  \n",
       "2015-12-29  2078.360107  \n",
       "2015-12-30  2063.360107  \n",
       "2015-12-31  2043.939941  \n",
       "\n",
       "[5 rows x 6 columns]"
      ]
     },
     "execution_count": 17,
     "metadata": {},
     "output_type": "execute_result"
    }
   ],
   "source": [
    "SP.tail()"
   ]
  },
  {
   "cell_type": "markdown",
   "metadata": {},
   "source": [
    "   根据收盘点位绘图："
   ]
  },
  {
   "cell_type": "code",
   "execution_count": 18,
   "metadata": {
    "collapsed": false,
    "scrolled": true
   },
   "outputs": [
    {
     "data": {
      "text/plain": [
       "<matplotlib.axes._subplots.AxesSubplot at 0xb493bb0>"
      ]
     },
     "execution_count": 18,
     "metadata": {},
     "output_type": "execute_result"
    },
    {
     "data": {
      "image/png": "[encoded data removed]",
      "text/plain": [
       "<matplotlib.figure.Figure at 0xb493ef0>"
      ]
     },
     "metadata": {},
     "output_type": "display_data"
    }
   ],
   "source": [
    "SP['Close'].plot(figsize=(8, 5))"
   ]
  },
  {
   "cell_type": "markdown",
   "metadata": {},
   "source": [
    "        在上述的DataFrame中，对于收盘价格，计算对数收益率："
   ]
  },
  {
   "cell_type": "code",
   "execution_count": 19,
   "metadata": {
    "collapsed": false
   },
   "outputs": [
    {
     "name": "stdout",
     "output_type": "stream",
     "text": [
      "Wall time: 19 ms\n"
     ]
    }
   ],
   "source": [
    "%%time\n",
    "SP['Ret_Loop'] = 0.0\n",
    "for i in range(1, len(SP)):\n",
    "    SP['Ret_Loop'][i] = np.log(SP['Close'][i] / SP['Close'][i - 1])"
   ]
  },
  {
   "cell_type": "code",
   "execution_count": 20,
   "metadata": {
    "collapsed": false
   },
   "outputs": [
    {
     "data": {
      "text/html": [
       "<div style=\"max-height:1000px;max-width:1500px;overflow:auto;\">\n",
       "<table border=\"1\" class=\"dataframe\">\n",
       "  <thead>\n",
       "    <tr style=\"text-align: right;\">\n",
       "      <th></th>\n",
       "      <th>Close</th>\n",
       "      <th>Ret_Loop</th>\n",
       "    </tr>\n",
       "    <tr>\n",
       "      <th>Date</th>\n",
       "      <th></th>\n",
       "      <th></th>\n",
       "    </tr>\n",
       "  </thead>\n",
       "  <tbody>\n",
       "    <tr>\n",
       "      <th>2015-12-24</th>\n",
       "      <td> 2060.989990</td>\n",
       "      <td>-0.001600</td>\n",
       "    </tr>\n",
       "    <tr>\n",
       "      <th>2015-12-28</th>\n",
       "      <td> 2056.500000</td>\n",
       "      <td>-0.002181</td>\n",
       "    </tr>\n",
       "    <tr>\n",
       "      <th>2015-12-29</th>\n",
       "      <td> 2078.360107</td>\n",
       "      <td> 0.010574</td>\n",
       "    </tr>\n",
       "    <tr>\n",
       "      <th>2015-12-30</th>\n",
       "      <td> 2063.360107</td>\n",
       "      <td>-0.007243</td>\n",
       "    </tr>\n",
       "    <tr>\n",
       "      <th>2015-12-31</th>\n",
       "      <td> 2043.939941</td>\n",
       "      <td>-0.009456</td>\n",
       "    </tr>\n",
       "  </tbody>\n",
       "</table>\n",
       "<p>5 rows × 2 columns</p>\n",
       "</div>"
      ],
      "text/plain": [
       "                  Close  Ret_Loop\n",
       "Date                             \n",
       "2015-12-24  2060.989990 -0.001600\n",
       "2015-12-28  2056.500000 -0.002181\n",
       "2015-12-29  2078.360107  0.010574\n",
       "2015-12-30  2063.360107 -0.007243\n",
       "2015-12-31  2043.939941 -0.009456\n",
       "\n",
       "[5 rows x 2 columns]"
      ]
     },
     "execution_count": 20,
     "metadata": {},
     "output_type": "execute_result"
    }
   ],
   "source": [
    "SP[['Close', 'Ret_Loop']].tail()"
   ]
  },
  {
   "cell_type": "markdown",
   "metadata": {},
   "source": [
    "   也可以通过shift方法，"
   ]
  },
  {
   "cell_type": "code",
   "execution_count": 21,
   "metadata": {
    "collapsed": false
   },
   "outputs": [
    {
     "name": "stdout",
     "output_type": "stream",
     "text": [
      "Wall time: 1e+03 µs\n"
     ]
    }
   ],
   "source": [
    "%time SP['Return'] = np.log(SP['Close'] / SP['Close'].shift(1))"
   ]
  },
  {
   "cell_type": "code",
   "execution_count": 22,
   "metadata": {
    "collapsed": false
   },
   "outputs": [
    {
     "data": {
      "text/html": [
       "<div style=\"max-height:1000px;max-width:1500px;overflow:auto;\">\n",
       "<table border=\"1\" class=\"dataframe\">\n",
       "  <thead>\n",
       "    <tr style=\"text-align: right;\">\n",
       "      <th></th>\n",
       "      <th>Close</th>\n",
       "      <th>Ret_Loop</th>\n",
       "      <th>Return</th>\n",
       "    </tr>\n",
       "    <tr>\n",
       "      <th>Date</th>\n",
       "      <th></th>\n",
       "      <th></th>\n",
       "      <th></th>\n",
       "    </tr>\n",
       "  </thead>\n",
       "  <tbody>\n",
       "    <tr>\n",
       "      <th>2015-12-24</th>\n",
       "      <td> 2060.989990</td>\n",
       "      <td>-0.001600</td>\n",
       "      <td>-0.001600</td>\n",
       "    </tr>\n",
       "    <tr>\n",
       "      <th>2015-12-28</th>\n",
       "      <td> 2056.500000</td>\n",
       "      <td>-0.002181</td>\n",
       "      <td>-0.002181</td>\n",
       "    </tr>\n",
       "    <tr>\n",
       "      <th>2015-12-29</th>\n",
       "      <td> 2078.360107</td>\n",
       "      <td> 0.010574</td>\n",
       "      <td> 0.010574</td>\n",
       "    </tr>\n",
       "    <tr>\n",
       "      <th>2015-12-30</th>\n",
       "      <td> 2063.360107</td>\n",
       "      <td>-0.007243</td>\n",
       "      <td>-0.007243</td>\n",
       "    </tr>\n",
       "    <tr>\n",
       "      <th>2015-12-31</th>\n",
       "      <td> 2043.939941</td>\n",
       "      <td>-0.009456</td>\n",
       "      <td>-0.009456</td>\n",
       "    </tr>\n",
       "  </tbody>\n",
       "</table>\n",
       "<p>5 rows × 3 columns</p>\n",
       "</div>"
      ],
      "text/plain": [
       "                  Close  Ret_Loop    Return\n",
       "Date                                       \n",
       "2015-12-24  2060.989990 -0.001600 -0.001600\n",
       "2015-12-28  2056.500000 -0.002181 -0.002181\n",
       "2015-12-29  2078.360107  0.010574  0.010574\n",
       "2015-12-30  2063.360107 -0.007243 -0.007243\n",
       "2015-12-31  2043.939941 -0.009456 -0.009456\n",
       "\n",
       "[5 rows x 3 columns]"
      ]
     },
     "execution_count": 22,
     "metadata": {},
     "output_type": "execute_result"
    }
   ],
   "source": [
    "SP[['Close', 'Ret_Loop', 'Return']].tail()"
   ]
  },
  {
   "cell_type": "markdown",
   "metadata": {},
   "source": [
    "    对于上述的收盘和日收益进行绘图："
   ]
  },
  {
   "cell_type": "code",
   "execution_count": 24,
   "metadata": {
    "collapsed": false
   },
   "outputs": [
    {
     "data": {
      "text/plain": [
       "array([<matplotlib.axes._subplots.AxesSubplot object at 0x0B64D7B0>,\n",
       "       <matplotlib.axes._subplots.AxesSubplot object at 0x0B67FFD0>], dtype=object)"
      ]
     },
     "execution_count": 24,
     "metadata": {},
     "output_type": "execute_result"
    },
    {
     "data": {
      "image/png": "[encoded data removed]",
      "text/plain": [
       "<matplotlib.figure.Figure at 0x54bc850>"
      ]
     },
     "metadata": {},
     "output_type": "display_data"
    }
   ],
   "source": [
    "SP[['Close', 'Return']].plot(subplots=True, style='b',figsize=(8, 5))"
   ]
  },
  {
   "cell_type": "markdown",
   "metadata": {},
   "source": [
    "    通常收益和波动负相关。"
   ]
  },
  {
   "cell_type": "markdown",
   "metadata": {},
   "source": [
    "### 移动平均线"
   ]
  },
  {
   "cell_type": "markdown",
   "metadata": {},
   "source": [
    "    在研究股票趋势的时候，通常会用到移动平均线（MA），可以通过rolling_mean方法基于收盘价格进行计算："
   ]
  },
  {
   "cell_type": "code",
   "execution_count": 33,
   "metadata": {
    "collapsed": false
   },
   "outputs": [],
   "source": [
    "SP['42d'] = pd.rolling_mean(SP['Close'], window=42)\n",
    "SP['5d'] =  pd.rolling_mean(SP['Close'], window=5)"
   ]
  },
  {
   "cell_type": "code",
   "execution_count": 34,
   "metadata": {
    "collapsed": false
   },
   "outputs": [
    {
     "data": {
      "text/plain": [
       "<matplotlib.axes._subplots.AxesSubplot at 0xb77bc50>"
      ]
     },
     "execution_count": 34,
     "metadata": {},
     "output_type": "execute_result"
    },
    {
     "data": {
      "image/png": "[encoded data removed]",
      "text/plain": [
       "<matplotlib.figure.Figure at 0xba9e390>"
      ]
     },
     "metadata": {},
     "output_type": "display_data"
    }
   ],
   "source": [
    "SP[['Close', '42d', '5d']].plot(figsize=(8,5))"
   ]
  },
  {
   "cell_type": "markdown",
   "metadata": {},
   "source": [
    "    可以看到5日线和42日线以及日线走势。"
   ]
  }
 ],
 "metadata": {
  "kernelspec": {
   "display_name": "Python 2",
   "language": "python",
   "name": "python2"
  },
  "language_info": {
   "codemirror_mode": {
    "name": "ipython",
    "version": 2
   },
   "file_extension": ".py",
   "mimetype": "text/x-python",
   "name": "python",
   "nbconvert_exporter": "python",
   "pygments_lexer": "ipython2",
   "version": "2.7.6"
  }
 },
 "nbformat": 4,
 "nbformat_minor": 0
}
