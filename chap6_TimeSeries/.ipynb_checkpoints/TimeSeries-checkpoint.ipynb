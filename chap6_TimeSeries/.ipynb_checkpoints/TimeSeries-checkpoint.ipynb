{
 "cells": [
  {
   "cell_type": "markdown",
   "metadata": {},
   "source": [
    "## 数据时间序列"
   ]
  },
  {
   "cell_type": "markdown",
   "metadata": {},
   "source": [
    "    对于金融时间序列，通过以日期和时间为索引。比如：一段周期内的股票价格。本章基于DataFrame和Series对于对于时间序列数据的处理进行分析。"
   ]
  },
  {
   "cell_type": "markdown",
   "metadata": {},
   "source": [
    "    通过NumPy产生符合正态分布的4列数据，一共9组："
   ]
  },
  {
   "cell_type": "code",
   "execution_count": 1,
   "metadata": {
    "collapsed": false
   },
   "outputs": [
    {
     "data": {
      "text/plain": [
       "array([[-0.100054, -0.246125,  1.447586,  2.491249],\n",
       "       [-0.353933,  0.560573, -0.931687,  0.120224],\n",
       "       [-0.40892 ,  1.206156, -0.226544,  0.906043],\n",
       "       [ 1.306979,  0.818487,  0.182831, -0.531732],\n",
       "       [ 1.565232, -0.902645,  0.60277 ,  1.431309],\n",
       "       [-1.517596, -0.133967, -0.797734, -1.305109],\n",
       "       [-0.592685,  0.467948,  0.147663,  0.259357],\n",
       "       [ 0.612302,  0.467229,  1.00277 , -1.047602],\n",
       "       [ 0.123674,  0.36556 ,  0.03615 , -1.147418]])"
      ]
     },
     "execution_count": 1,
     "metadata": {},
     "output_type": "execute_result"
    }
   ],
   "source": [
    "import numpy as np\n",
    "import pandas as pd\n",
    "a = np.random.standard_normal((9, 4))\n",
    "a.round(6)"
   ]
  },
  {
   "cell_type": "markdown",
   "metadata": {},
   "source": [
    "    通过上述的NumPy数组构建DataFrame:"
   ]
  },
  {
   "cell_type": "code",
   "execution_count": 2,
   "metadata": {
    "collapsed": false
   },
   "outputs": [
    {
     "data": {
      "text/html": [
       "<div>\n",
       "<table border=\"1\" class=\"dataframe\">\n",
       "  <thead>\n",
       "    <tr style=\"text-align: right;\">\n",
       "      <th></th>\n",
       "      <th>0</th>\n",
       "      <th>1</th>\n",
       "      <th>2</th>\n",
       "      <th>3</th>\n",
       "    </tr>\n",
       "  </thead>\n",
       "  <tbody>\n",
       "    <tr>\n",
       "      <th>0</th>\n",
       "      <td>-0.100054</td>\n",
       "      <td>-0.246125</td>\n",
       "      <td>1.447586</td>\n",
       "      <td>2.491249</td>\n",
       "    </tr>\n",
       "    <tr>\n",
       "      <th>1</th>\n",
       "      <td>-0.353933</td>\n",
       "      <td>0.560573</td>\n",
       "      <td>-0.931687</td>\n",
       "      <td>0.120224</td>\n",
       "    </tr>\n",
       "    <tr>\n",
       "      <th>2</th>\n",
       "      <td>-0.408920</td>\n",
       "      <td>1.206156</td>\n",
       "      <td>-0.226544</td>\n",
       "      <td>0.906043</td>\n",
       "    </tr>\n",
       "    <tr>\n",
       "      <th>3</th>\n",
       "      <td>1.306979</td>\n",
       "      <td>0.818487</td>\n",
       "      <td>0.182831</td>\n",
       "      <td>-0.531732</td>\n",
       "    </tr>\n",
       "    <tr>\n",
       "      <th>4</th>\n",
       "      <td>1.565232</td>\n",
       "      <td>-0.902645</td>\n",
       "      <td>0.602770</td>\n",
       "      <td>1.431309</td>\n",
       "    </tr>\n",
       "    <tr>\n",
       "      <th>5</th>\n",
       "      <td>-1.517596</td>\n",
       "      <td>-0.133967</td>\n",
       "      <td>-0.797734</td>\n",
       "      <td>-1.305109</td>\n",
       "    </tr>\n",
       "    <tr>\n",
       "      <th>6</th>\n",
       "      <td>-0.592685</td>\n",
       "      <td>0.467948</td>\n",
       "      <td>0.147663</td>\n",
       "      <td>0.259357</td>\n",
       "    </tr>\n",
       "    <tr>\n",
       "      <th>7</th>\n",
       "      <td>0.612302</td>\n",
       "      <td>0.467229</td>\n",
       "      <td>1.002770</td>\n",
       "      <td>-1.047602</td>\n",
       "    </tr>\n",
       "    <tr>\n",
       "      <th>8</th>\n",
       "      <td>0.123674</td>\n",
       "      <td>0.365560</td>\n",
       "      <td>0.036150</td>\n",
       "      <td>-1.147418</td>\n",
       "    </tr>\n",
       "  </tbody>\n",
       "</table>\n",
       "</div>"
      ],
      "text/plain": [
       "          0         1         2         3\n",
       "0 -0.100054 -0.246125  1.447586  2.491249\n",
       "1 -0.353933  0.560573 -0.931687  0.120224\n",
       "2 -0.408920  1.206156 -0.226544  0.906043\n",
       "3  1.306979  0.818487  0.182831 -0.531732\n",
       "4  1.565232 -0.902645  0.602770  1.431309\n",
       "5 -1.517596 -0.133967 -0.797734 -1.305109\n",
       "6 -0.592685  0.467948  0.147663  0.259357\n",
       "7  0.612302  0.467229  1.002770 -1.047602\n",
       "8  0.123674  0.365560  0.036150 -1.147418"
      ]
     },
     "execution_count": 2,
     "metadata": {},
     "output_type": "execute_result"
    }
   ],
   "source": [
    "df = pd.DataFrame(a)\n",
    "df"
   ]
  },
  {
   "cell_type": "markdown",
   "metadata": {},
   "source": [
    "    默认列为[0,1,2,3]，每列的index索引为：0~8。对于列名重新命名："
   ]
  },
  {
   "cell_type": "code",
   "execution_count": 3,
   "metadata": {
    "collapsed": false
   },
   "outputs": [
    {
     "data": {
      "text/html": [
       "<div>\n",
       "<table border=\"1\" class=\"dataframe\">\n",
       "  <thead>\n",
       "    <tr style=\"text-align: right;\">\n",
       "      <th></th>\n",
       "      <th>No1</th>\n",
       "      <th>No2</th>\n",
       "      <th>No3</th>\n",
       "      <th>No4</th>\n",
       "    </tr>\n",
       "  </thead>\n",
       "  <tbody>\n",
       "    <tr>\n",
       "      <th>0</th>\n",
       "      <td>-0.100054</td>\n",
       "      <td>-0.246125</td>\n",
       "      <td>1.447586</td>\n",
       "      <td>2.491249</td>\n",
       "    </tr>\n",
       "    <tr>\n",
       "      <th>1</th>\n",
       "      <td>-0.353933</td>\n",
       "      <td>0.560573</td>\n",
       "      <td>-0.931687</td>\n",
       "      <td>0.120224</td>\n",
       "    </tr>\n",
       "    <tr>\n",
       "      <th>2</th>\n",
       "      <td>-0.408920</td>\n",
       "      <td>1.206156</td>\n",
       "      <td>-0.226544</td>\n",
       "      <td>0.906043</td>\n",
       "    </tr>\n",
       "    <tr>\n",
       "      <th>3</th>\n",
       "      <td>1.306979</td>\n",
       "      <td>0.818487</td>\n",
       "      <td>0.182831</td>\n",
       "      <td>-0.531732</td>\n",
       "    </tr>\n",
       "    <tr>\n",
       "      <th>4</th>\n",
       "      <td>1.565232</td>\n",
       "      <td>-0.902645</td>\n",
       "      <td>0.602770</td>\n",
       "      <td>1.431309</td>\n",
       "    </tr>\n",
       "    <tr>\n",
       "      <th>5</th>\n",
       "      <td>-1.517596</td>\n",
       "      <td>-0.133967</td>\n",
       "      <td>-0.797734</td>\n",
       "      <td>-1.305109</td>\n",
       "    </tr>\n",
       "    <tr>\n",
       "      <th>6</th>\n",
       "      <td>-0.592685</td>\n",
       "      <td>0.467948</td>\n",
       "      <td>0.147663</td>\n",
       "      <td>0.259357</td>\n",
       "    </tr>\n",
       "    <tr>\n",
       "      <th>7</th>\n",
       "      <td>0.612302</td>\n",
       "      <td>0.467229</td>\n",
       "      <td>1.002770</td>\n",
       "      <td>-1.047602</td>\n",
       "    </tr>\n",
       "    <tr>\n",
       "      <th>8</th>\n",
       "      <td>0.123674</td>\n",
       "      <td>0.365560</td>\n",
       "      <td>0.036150</td>\n",
       "      <td>-1.147418</td>\n",
       "    </tr>\n",
       "  </tbody>\n",
       "</table>\n",
       "</div>"
      ],
      "text/plain": [
       "        No1       No2       No3       No4\n",
       "0 -0.100054 -0.246125  1.447586  2.491249\n",
       "1 -0.353933  0.560573 -0.931687  0.120224\n",
       "2 -0.408920  1.206156 -0.226544  0.906043\n",
       "3  1.306979  0.818487  0.182831 -0.531732\n",
       "4  1.565232 -0.902645  0.602770  1.431309\n",
       "5 -1.517596 -0.133967 -0.797734 -1.305109\n",
       "6 -0.592685  0.467948  0.147663  0.259357\n",
       "7  0.612302  0.467229  1.002770 -1.047602\n",
       "8  0.123674  0.365560  0.036150 -1.147418"
      ]
     },
     "execution_count": 3,
     "metadata": {},
     "output_type": "execute_result"
    }
   ],
   "source": [
    "df.columns = [['No1', 'No2', 'No3', 'No4']]\n",
    "df"
   ]
  },
  {
   "cell_type": "markdown",
   "metadata": {},
   "source": [
    "    取出‘No2’列的所以为3的数据："
   ]
  },
  {
   "cell_type": "code",
   "execution_count": 4,
   "metadata": {
    "collapsed": false
   },
   "outputs": [
    {
     "data": {
      "text/plain": [
       "0.81848691270397533"
      ]
     },
     "execution_count": 4,
     "metadata": {},
     "output_type": "execute_result"
    }
   ],
   "source": [
    "df['No2'][3]"
   ]
  },
  {
   "cell_type": "markdown",
   "metadata": {},
   "source": [
    "    将上述的数据按照日期进行索引，先生成日期索引，然后更换DataFrame中的索引："
   ]
  },
  {
   "cell_type": "code",
   "execution_count": 5,
   "metadata": {
    "collapsed": false
   },
   "outputs": [
    {
     "data": {
      "text/html": [
       "<div>\n",
       "<table border=\"1\" class=\"dataframe\">\n",
       "  <thead>\n",
       "    <tr style=\"text-align: right;\">\n",
       "      <th></th>\n",
       "      <th>No1</th>\n",
       "      <th>No2</th>\n",
       "      <th>No3</th>\n",
       "      <th>No4</th>\n",
       "    </tr>\n",
       "  </thead>\n",
       "  <tbody>\n",
       "    <tr>\n",
       "      <th>2015-01-31</th>\n",
       "      <td>-0.100054</td>\n",
       "      <td>-0.246125</td>\n",
       "      <td>1.447586</td>\n",
       "      <td>2.491249</td>\n",
       "    </tr>\n",
       "    <tr>\n",
       "      <th>2015-02-28</th>\n",
       "      <td>-0.353933</td>\n",
       "      <td>0.560573</td>\n",
       "      <td>-0.931687</td>\n",
       "      <td>0.120224</td>\n",
       "    </tr>\n",
       "    <tr>\n",
       "      <th>2015-03-31</th>\n",
       "      <td>-0.408920</td>\n",
       "      <td>1.206156</td>\n",
       "      <td>-0.226544</td>\n",
       "      <td>0.906043</td>\n",
       "    </tr>\n",
       "    <tr>\n",
       "      <th>2015-04-30</th>\n",
       "      <td>1.306979</td>\n",
       "      <td>0.818487</td>\n",
       "      <td>0.182831</td>\n",
       "      <td>-0.531732</td>\n",
       "    </tr>\n",
       "    <tr>\n",
       "      <th>2015-05-31</th>\n",
       "      <td>1.565232</td>\n",
       "      <td>-0.902645</td>\n",
       "      <td>0.602770</td>\n",
       "      <td>1.431309</td>\n",
       "    </tr>\n",
       "    <tr>\n",
       "      <th>2015-06-30</th>\n",
       "      <td>-1.517596</td>\n",
       "      <td>-0.133967</td>\n",
       "      <td>-0.797734</td>\n",
       "      <td>-1.305109</td>\n",
       "    </tr>\n",
       "    <tr>\n",
       "      <th>2015-07-31</th>\n",
       "      <td>-0.592685</td>\n",
       "      <td>0.467948</td>\n",
       "      <td>0.147663</td>\n",
       "      <td>0.259357</td>\n",
       "    </tr>\n",
       "    <tr>\n",
       "      <th>2015-08-31</th>\n",
       "      <td>0.612302</td>\n",
       "      <td>0.467229</td>\n",
       "      <td>1.002770</td>\n",
       "      <td>-1.047602</td>\n",
       "    </tr>\n",
       "    <tr>\n",
       "      <th>2015-09-30</th>\n",
       "      <td>0.123674</td>\n",
       "      <td>0.365560</td>\n",
       "      <td>0.036150</td>\n",
       "      <td>-1.147418</td>\n",
       "    </tr>\n",
       "  </tbody>\n",
       "</table>\n",
       "</div>"
      ],
      "text/plain": [
       "                 No1       No2       No3       No4\n",
       "2015-01-31 -0.100054 -0.246125  1.447586  2.491249\n",
       "2015-02-28 -0.353933  0.560573 -0.931687  0.120224\n",
       "2015-03-31 -0.408920  1.206156 -0.226544  0.906043\n",
       "2015-04-30  1.306979  0.818487  0.182831 -0.531732\n",
       "2015-05-31  1.565232 -0.902645  0.602770  1.431309\n",
       "2015-06-30 -1.517596 -0.133967 -0.797734 -1.305109\n",
       "2015-07-31 -0.592685  0.467948  0.147663  0.259357\n",
       "2015-08-31  0.612302  0.467229  1.002770 -1.047602\n",
       "2015-09-30  0.123674  0.365560  0.036150 -1.147418"
      ]
     },
     "execution_count": 5,
     "metadata": {},
     "output_type": "execute_result"
    }
   ],
   "source": [
    "dates = pd.date_range('2015-1-1', periods=9, freq='M')\n",
    "dates\n",
    "df.index=dates\n",
    "df"
   ]
  },
  {
   "cell_type": "markdown",
   "metadata": {},
   "source": [
    "    按照月度的频率，一共生成9期。"
   ]
  },
  {
   "cell_type": "markdown",
   "metadata": {},
   "source": [
    "    对于各列求和："
   ]
  },
  {
   "cell_type": "code",
   "execution_count": 6,
   "metadata": {
    "collapsed": false
   },
   "outputs": [
    {
     "data": {
      "text/plain": [
       "No1    0.635000\n",
       "No2    2.603216\n",
       "No3    1.463804\n",
       "No4    1.176320\n",
       "dtype: float64"
      ]
     },
     "execution_count": 6,
     "metadata": {},
     "output_type": "execute_result"
    }
   ],
   "source": [
    "df.sum()"
   ]
  },
  {
   "cell_type": "markdown",
   "metadata": {},
   "source": [
    "    对于上述的数据输入统计信息，DataFrame中有describe方法:"
   ]
  },
  {
   "cell_type": "code",
   "execution_count": 7,
   "metadata": {
    "collapsed": false
   },
   "outputs": [
    {
     "data": {
      "text/html": [
       "<div>\n",
       "<table border=\"1\" class=\"dataframe\">\n",
       "  <thead>\n",
       "    <tr style=\"text-align: right;\">\n",
       "      <th></th>\n",
       "      <th>No1</th>\n",
       "      <th>No2</th>\n",
       "      <th>No3</th>\n",
       "      <th>No4</th>\n",
       "    </tr>\n",
       "  </thead>\n",
       "  <tbody>\n",
       "    <tr>\n",
       "      <th>count</th>\n",
       "      <td>9.000000</td>\n",
       "      <td>9.000000</td>\n",
       "      <td>9.000000</td>\n",
       "      <td>9.000000</td>\n",
       "    </tr>\n",
       "    <tr>\n",
       "      <th>mean</th>\n",
       "      <td>0.070556</td>\n",
       "      <td>0.289246</td>\n",
       "      <td>0.162645</td>\n",
       "      <td>0.130702</td>\n",
       "    </tr>\n",
       "    <tr>\n",
       "      <th>std</th>\n",
       "      <td>0.965687</td>\n",
       "      <td>0.627516</td>\n",
       "      <td>0.777704</td>\n",
       "      <td>1.294408</td>\n",
       "    </tr>\n",
       "    <tr>\n",
       "      <th>min</th>\n",
       "      <td>-1.517596</td>\n",
       "      <td>-0.902645</td>\n",
       "      <td>-0.931687</td>\n",
       "      <td>-1.305109</td>\n",
       "    </tr>\n",
       "    <tr>\n",
       "      <th>25%</th>\n",
       "      <td>-0.408920</td>\n",
       "      <td>-0.133967</td>\n",
       "      <td>-0.226544</td>\n",
       "      <td>-1.047602</td>\n",
       "    </tr>\n",
       "    <tr>\n",
       "      <th>50%</th>\n",
       "      <td>-0.100054</td>\n",
       "      <td>0.467229</td>\n",
       "      <td>0.147663</td>\n",
       "      <td>0.120224</td>\n",
       "    </tr>\n",
       "    <tr>\n",
       "      <th>75%</th>\n",
       "      <td>0.612302</td>\n",
       "      <td>0.560573</td>\n",
       "      <td>0.602770</td>\n",
       "      <td>0.906043</td>\n",
       "    </tr>\n",
       "    <tr>\n",
       "      <th>max</th>\n",
       "      <td>1.565232</td>\n",
       "      <td>1.206156</td>\n",
       "      <td>1.447586</td>\n",
       "      <td>2.491249</td>\n",
       "    </tr>\n",
       "  </tbody>\n",
       "</table>\n",
       "</div>"
      ],
      "text/plain": [
       "            No1       No2       No3       No4\n",
       "count  9.000000  9.000000  9.000000  9.000000\n",
       "mean   0.070556  0.289246  0.162645  0.130702\n",
       "std    0.965687  0.627516  0.777704  1.294408\n",
       "min   -1.517596 -0.902645 -0.931687 -1.305109\n",
       "25%   -0.408920 -0.133967 -0.226544 -1.047602\n",
       "50%   -0.100054  0.467229  0.147663  0.120224\n",
       "75%    0.612302  0.560573  0.602770  0.906043\n",
       "max    1.565232  1.206156  1.447586  2.491249"
      ]
     },
     "execution_count": 7,
     "metadata": {},
     "output_type": "execute_result"
    }
   ],
   "source": [
    "df.describe()"
   ]
  },
  {
   "cell_type": "markdown",
   "metadata": {},
   "source": [
    "    对于上述的'No1'列累加值进行绘图："
   ]
  },
  {
   "cell_type": "code",
   "execution_count": 8,
   "metadata": {
    "collapsed": false
   },
   "outputs": [
    {
     "data": {
      "text/plain": [
       "<matplotlib.text.Text at 0x113ee5590>"
      ]
     },
     "execution_count": 8,
     "metadata": {},
     "output_type": "execute_result"
    },
    {
     "data": {
      "image/png": "[encoded data removed]",
      "text/plain": [
       "<matplotlib.figure.Figure at 0x113ead090>"
      ]
     },
     "metadata": {},
     "output_type": "display_data"
    }
   ],
   "source": [
    "import matplotlib.pyplot as plt\n",
    "%matplotlib inline\n",
    "df['No1'].cumsum().plot(style='r',lw=2)\n",
    "plt.xlabel('date')\n",
    "plt.ylabel('value')"
   ]
  },
  {
   "cell_type": "markdown",
   "metadata": {},
   "source": [
    "## 分组操作"
   ]
  },
  {
   "cell_type": "markdown",
   "metadata": {},
   "source": [
    "    pandas具有很强的数据分组操作能力，基于之前的例子，我们新增一列，通过月度进行分组："
   ]
  },
  {
   "cell_type": "code",
   "execution_count": 9,
   "metadata": {
    "collapsed": false
   },
   "outputs": [
    {
     "data": {
      "text/html": [
       "<div>\n",
       "<table border=\"1\" class=\"dataframe\">\n",
       "  <thead>\n",
       "    <tr style=\"text-align: right;\">\n",
       "      <th></th>\n",
       "      <th>No1</th>\n",
       "      <th>No2</th>\n",
       "      <th>No3</th>\n",
       "      <th>No4</th>\n",
       "      <th>Quarter</th>\n",
       "    </tr>\n",
       "  </thead>\n",
       "  <tbody>\n",
       "    <tr>\n",
       "      <th>2015-01-31</th>\n",
       "      <td>-0.100054</td>\n",
       "      <td>-0.246125</td>\n",
       "      <td>1.447586</td>\n",
       "      <td>2.491249</td>\n",
       "      <td>Q1</td>\n",
       "    </tr>\n",
       "    <tr>\n",
       "      <th>2015-02-28</th>\n",
       "      <td>-0.353933</td>\n",
       "      <td>0.560573</td>\n",
       "      <td>-0.931687</td>\n",
       "      <td>0.120224</td>\n",
       "      <td>Q1</td>\n",
       "    </tr>\n",
       "    <tr>\n",
       "      <th>2015-03-31</th>\n",
       "      <td>-0.408920</td>\n",
       "      <td>1.206156</td>\n",
       "      <td>-0.226544</td>\n",
       "      <td>0.906043</td>\n",
       "      <td>Q1</td>\n",
       "    </tr>\n",
       "    <tr>\n",
       "      <th>2015-04-30</th>\n",
       "      <td>1.306979</td>\n",
       "      <td>0.818487</td>\n",
       "      <td>0.182831</td>\n",
       "      <td>-0.531732</td>\n",
       "      <td>Q2</td>\n",
       "    </tr>\n",
       "    <tr>\n",
       "      <th>2015-05-31</th>\n",
       "      <td>1.565232</td>\n",
       "      <td>-0.902645</td>\n",
       "      <td>0.602770</td>\n",
       "      <td>1.431309</td>\n",
       "      <td>Q2</td>\n",
       "    </tr>\n",
       "    <tr>\n",
       "      <th>2015-06-30</th>\n",
       "      <td>-1.517596</td>\n",
       "      <td>-0.133967</td>\n",
       "      <td>-0.797734</td>\n",
       "      <td>-1.305109</td>\n",
       "      <td>Q2</td>\n",
       "    </tr>\n",
       "    <tr>\n",
       "      <th>2015-07-31</th>\n",
       "      <td>-0.592685</td>\n",
       "      <td>0.467948</td>\n",
       "      <td>0.147663</td>\n",
       "      <td>0.259357</td>\n",
       "      <td>Q3</td>\n",
       "    </tr>\n",
       "    <tr>\n",
       "      <th>2015-08-31</th>\n",
       "      <td>0.612302</td>\n",
       "      <td>0.467229</td>\n",
       "      <td>1.002770</td>\n",
       "      <td>-1.047602</td>\n",
       "      <td>Q3</td>\n",
       "    </tr>\n",
       "    <tr>\n",
       "      <th>2015-09-30</th>\n",
       "      <td>0.123674</td>\n",
       "      <td>0.365560</td>\n",
       "      <td>0.036150</td>\n",
       "      <td>-1.147418</td>\n",
       "      <td>Q3</td>\n",
       "    </tr>\n",
       "  </tbody>\n",
       "</table>\n",
       "</div>"
      ],
      "text/plain": [
       "                 No1       No2       No3       No4 Quarter\n",
       "2015-01-31 -0.100054 -0.246125  1.447586  2.491249      Q1\n",
       "2015-02-28 -0.353933  0.560573 -0.931687  0.120224      Q1\n",
       "2015-03-31 -0.408920  1.206156 -0.226544  0.906043      Q1\n",
       "2015-04-30  1.306979  0.818487  0.182831 -0.531732      Q2\n",
       "2015-05-31  1.565232 -0.902645  0.602770  1.431309      Q2\n",
       "2015-06-30 -1.517596 -0.133967 -0.797734 -1.305109      Q2\n",
       "2015-07-31 -0.592685  0.467948  0.147663  0.259357      Q3\n",
       "2015-08-31  0.612302  0.467229  1.002770 -1.047602      Q3\n",
       "2015-09-30  0.123674  0.365560  0.036150 -1.147418      Q3"
      ]
     },
     "execution_count": 9,
     "metadata": {},
     "output_type": "execute_result"
    }
   ],
   "source": [
    "df['Quarter'] = ['Q1', 'Q1', 'Q1', 'Q2', 'Q2', 'Q2', 'Q3', 'Q3', 'Q3']\n",
    "df"
   ]
  },
  {
   "cell_type": "markdown",
   "metadata": {},
   "source": [
    "   上面的DataFrame增加了Quarter列，其中的值为字符串'Q1'...'Q3'."
   ]
  },
  {
   "cell_type": "code",
   "execution_count": 10,
   "metadata": {
    "collapsed": false
   },
   "outputs": [],
   "source": [
    "groups = df.groupby('Quarter')"
   ]
  },
  {
   "cell_type": "markdown",
   "metadata": {},
   "source": [
    "    按照'Quarter'列进行分组。"
   ]
  },
  {
   "cell_type": "code",
   "execution_count": 11,
   "metadata": {
    "collapsed": false
   },
   "outputs": [
    {
     "data": {
      "text/html": [
       "<div>\n",
       "<table border=\"1\" class=\"dataframe\">\n",
       "  <thead>\n",
       "    <tr style=\"text-align: right;\">\n",
       "      <th></th>\n",
       "      <th>No1</th>\n",
       "      <th>No2</th>\n",
       "      <th>No3</th>\n",
       "      <th>No4</th>\n",
       "    </tr>\n",
       "    <tr>\n",
       "      <th>Quarter</th>\n",
       "      <th></th>\n",
       "      <th></th>\n",
       "      <th></th>\n",
       "      <th></th>\n",
       "    </tr>\n",
       "  </thead>\n",
       "  <tbody>\n",
       "    <tr>\n",
       "      <th>Q1</th>\n",
       "      <td>-0.287636</td>\n",
       "      <td>0.506868</td>\n",
       "      <td>0.096452</td>\n",
       "      <td>1.172505</td>\n",
       "    </tr>\n",
       "    <tr>\n",
       "      <th>Q2</th>\n",
       "      <td>0.451538</td>\n",
       "      <td>-0.072708</td>\n",
       "      <td>-0.004044</td>\n",
       "      <td>-0.135178</td>\n",
       "    </tr>\n",
       "    <tr>\n",
       "      <th>Q3</th>\n",
       "      <td>0.047764</td>\n",
       "      <td>0.433579</td>\n",
       "      <td>0.395528</td>\n",
       "      <td>-0.645221</td>\n",
       "    </tr>\n",
       "  </tbody>\n",
       "</table>\n",
       "</div>"
      ],
      "text/plain": [
       "              No1       No2       No3       No4\n",
       "Quarter                                        \n",
       "Q1      -0.287636  0.506868  0.096452  1.172505\n",
       "Q2       0.451538 -0.072708 -0.004044 -0.135178\n",
       "Q3       0.047764  0.433579  0.395528 -0.645221"
      ]
     },
     "execution_count": 11,
     "metadata": {},
     "output_type": "execute_result"
    }
   ],
   "source": [
    "groups.mean()"
   ]
  },
  {
   "cell_type": "markdown",
   "metadata": {},
   "source": [
    "    基于'Quarter'进行分组后，对于其他列的值求出平均值。"
   ]
  },
  {
   "cell_type": "code",
   "execution_count": 12,
   "metadata": {
    "collapsed": false
   },
   "outputs": [
    {
     "data": {
      "text/html": [
       "<div>\n",
       "<table border=\"1\" class=\"dataframe\">\n",
       "  <thead>\n",
       "    <tr style=\"text-align: right;\">\n",
       "      <th></th>\n",
       "      <th>No1</th>\n",
       "      <th>No2</th>\n",
       "      <th>No3</th>\n",
       "      <th>No4</th>\n",
       "    </tr>\n",
       "    <tr>\n",
       "      <th>Quarter</th>\n",
       "      <th></th>\n",
       "      <th></th>\n",
       "      <th></th>\n",
       "      <th></th>\n",
       "    </tr>\n",
       "  </thead>\n",
       "  <tbody>\n",
       "    <tr>\n",
       "      <th>Q1</th>\n",
       "      <td>-0.100054</td>\n",
       "      <td>1.206156</td>\n",
       "      <td>1.447586</td>\n",
       "      <td>2.491249</td>\n",
       "    </tr>\n",
       "    <tr>\n",
       "      <th>Q2</th>\n",
       "      <td>1.565232</td>\n",
       "      <td>0.818487</td>\n",
       "      <td>0.602770</td>\n",
       "      <td>1.431309</td>\n",
       "    </tr>\n",
       "    <tr>\n",
       "      <th>Q3</th>\n",
       "      <td>0.612302</td>\n",
       "      <td>0.467948</td>\n",
       "      <td>1.002770</td>\n",
       "      <td>0.259357</td>\n",
       "    </tr>\n",
       "  </tbody>\n",
       "</table>\n",
       "</div>"
      ],
      "text/plain": [
       "              No1       No2       No3       No4\n",
       "Quarter                                        \n",
       "Q1      -0.100054  1.206156  1.447586  2.491249\n",
       "Q2       1.565232  0.818487  0.602770  1.431309\n",
       "Q3       0.612302  0.467948  1.002770  0.259357"
      ]
     },
     "execution_count": 12,
     "metadata": {},
     "output_type": "execute_result"
    }
   ],
   "source": [
    "groups.max()"
   ]
  },
  {
   "cell_type": "markdown",
   "metadata": {},
   "source": [
    "   基于'Quarter'进行分组后，对于其他列的值求出最大值。"
   ]
  },
  {
   "cell_type": "markdown",
   "metadata": {},
   "source": [
    "## 多列分组"
   ]
  },
  {
   "cell_type": "markdown",
   "metadata": {},
   "source": [
    "    可以基于多列进行分组。基于上面的数据，再增加一列："
   ]
  },
  {
   "cell_type": "code",
   "execution_count": 13,
   "metadata": {
    "collapsed": false
   },
   "outputs": [],
   "source": [
    "df['Odd_Even'] = ['Odd', 'Even', 'Odd', 'Even', 'Odd', 'Even',\n",
    "'Odd', 'Even', 'Odd']"
   ]
  },
  {
   "cell_type": "markdown",
   "metadata": {},
   "source": [
    "    增加一列'Odd_Even'，根据'Quarter'和'Odd_Even'进行分组。"
   ]
  },
  {
   "cell_type": "code",
   "execution_count": 14,
   "metadata": {
    "collapsed": false
   },
   "outputs": [
    {
     "data": {
      "text/plain": [
       "Quarter  Odd_Even\n",
       "Q1       Even        1\n",
       "         Odd         2\n",
       "Q2       Even        2\n",
       "         Odd         1\n",
       "Q3       Even        1\n",
       "         Odd         2\n",
       "dtype: int64"
      ]
     },
     "execution_count": 14,
     "metadata": {},
     "output_type": "execute_result"
    }
   ],
   "source": [
    "groups = df.groupby(['Quarter', 'Odd_Even'])\n",
    "groups.size()"
   ]
  },
  {
   "cell_type": "code",
   "execution_count": 15,
   "metadata": {
    "collapsed": false
   },
   "outputs": [
    {
     "data": {
      "text/html": [
       "<div>\n",
       "<table border=\"1\" class=\"dataframe\">\n",
       "  <thead>\n",
       "    <tr style=\"text-align: right;\">\n",
       "      <th></th>\n",
       "      <th></th>\n",
       "      <th>No1</th>\n",
       "      <th>No2</th>\n",
       "      <th>No3</th>\n",
       "      <th>No4</th>\n",
       "    </tr>\n",
       "    <tr>\n",
       "      <th>Quarter</th>\n",
       "      <th>Odd_Even</th>\n",
       "      <th></th>\n",
       "      <th></th>\n",
       "      <th></th>\n",
       "      <th></th>\n",
       "    </tr>\n",
       "  </thead>\n",
       "  <tbody>\n",
       "    <tr>\n",
       "      <th rowspan=\"2\" valign=\"top\">Q1</th>\n",
       "      <th>Even</th>\n",
       "      <td>-0.353933</td>\n",
       "      <td>0.560573</td>\n",
       "      <td>-0.931687</td>\n",
       "      <td>0.120224</td>\n",
       "    </tr>\n",
       "    <tr>\n",
       "      <th>Odd</th>\n",
       "      <td>-0.254487</td>\n",
       "      <td>0.480016</td>\n",
       "      <td>0.610521</td>\n",
       "      <td>1.698646</td>\n",
       "    </tr>\n",
       "    <tr>\n",
       "      <th rowspan=\"2\" valign=\"top\">Q2</th>\n",
       "      <th>Even</th>\n",
       "      <td>-0.105308</td>\n",
       "      <td>0.342260</td>\n",
       "      <td>-0.307451</td>\n",
       "      <td>-0.918421</td>\n",
       "    </tr>\n",
       "    <tr>\n",
       "      <th>Odd</th>\n",
       "      <td>1.565232</td>\n",
       "      <td>-0.902645</td>\n",
       "      <td>0.602770</td>\n",
       "      <td>1.431309</td>\n",
       "    </tr>\n",
       "    <tr>\n",
       "      <th rowspan=\"2\" valign=\"top\">Q3</th>\n",
       "      <th>Even</th>\n",
       "      <td>0.612302</td>\n",
       "      <td>0.467229</td>\n",
       "      <td>1.002770</td>\n",
       "      <td>-1.047602</td>\n",
       "    </tr>\n",
       "    <tr>\n",
       "      <th>Odd</th>\n",
       "      <td>-0.234505</td>\n",
       "      <td>0.416754</td>\n",
       "      <td>0.091906</td>\n",
       "      <td>-0.444031</td>\n",
       "    </tr>\n",
       "  </tbody>\n",
       "</table>\n",
       "</div>"
      ],
      "text/plain": [
       "                       No1       No2       No3       No4\n",
       "Quarter Odd_Even                                        \n",
       "Q1      Even     -0.353933  0.560573 -0.931687  0.120224\n",
       "        Odd      -0.254487  0.480016  0.610521  1.698646\n",
       "Q2      Even     -0.105308  0.342260 -0.307451 -0.918421\n",
       "        Odd       1.565232 -0.902645  0.602770  1.431309\n",
       "Q3      Even      0.612302  0.467229  1.002770 -1.047602\n",
       "        Odd      -0.234505  0.416754  0.091906 -0.444031"
      ]
     },
     "execution_count": 15,
     "metadata": {},
     "output_type": "execute_result"
    }
   ],
   "source": [
    " groups.mean()"
   ]
  },
  {
   "cell_type": "markdown",
   "metadata": {},
   "source": [
    "    基于两列对于数据进行分组。"
   ]
  },
  {
   "cell_type": "markdown",
   "metadata": {},
   "source": [
    "## 金融数据"
   ]
  },
  {
   "cell_type": "markdown",
   "metadata": {},
   "source": [
    "    通过pandas内建的DataReader函数从Yahoo主页抓取金融数据并进行分析展示。"
   ]
  },
  {
   "cell_type": "code",
   "execution_count": 40,
   "metadata": {
    "collapsed": false
   },
   "outputs": [
    {
     "name": "stdout",
     "output_type": "stream",
     "text": [
      "<class 'pandas.core.frame.DataFrame'>\n",
      "DatetimeIndex: 252 entries, 2015-01-02 to 2015-12-31\n",
      "Data columns (total 6 columns):\n",
      "Open         252 non-null float64\n",
      "High         252 non-null float64\n",
      "Low          252 non-null float64\n",
      "Close        252 non-null float64\n",
      "Volume       252 non-null int64\n",
      "Adj Close    252 non-null float64\n",
      "dtypes: float64(5), int64(1)\n",
      "memory usage: 13.8 KB\n"
     ]
    }
   ],
   "source": [
    "import pandas.io.data as web\n",
    "SP = web.DataReader(name='^GSPC', data_source='yahoo',start='2015-1-1',end='2016-1-1')\n",
    "SP.info()"
   ]
  },
  {
   "cell_type": "markdown",
   "metadata": {},
   "source": [
    "    从yahoo网站获取了标普指数从2005年到2016年的数据，一共2769条记录。"
   ]
  },
  {
   "cell_type": "markdown",
   "metadata": {},
   "source": [
    "   展示最后的五条记录。"
   ]
  },
  {
   "cell_type": "code",
   "execution_count": 41,
   "metadata": {
    "collapsed": false
   },
   "outputs": [
    {
     "data": {
      "text/html": [
       "<div>\n",
       "<table border=\"1\" class=\"dataframe\">\n",
       "  <thead>\n",
       "    <tr style=\"text-align: right;\">\n",
       "      <th></th>\n",
       "      <th>Open</th>\n",
       "      <th>High</th>\n",
       "      <th>Low</th>\n",
       "      <th>Close</th>\n",
       "      <th>Volume</th>\n",
       "      <th>Adj Close</th>\n",
       "    </tr>\n",
       "    <tr>\n",
       "      <th>Date</th>\n",
       "      <th></th>\n",
       "      <th></th>\n",
       "      <th></th>\n",
       "      <th></th>\n",
       "      <th></th>\n",
       "      <th></th>\n",
       "    </tr>\n",
       "  </thead>\n",
       "  <tbody>\n",
       "    <tr>\n",
       "      <th>2015-12-24</th>\n",
       "      <td>2063.520020</td>\n",
       "      <td>2067.360107</td>\n",
       "      <td>2058.729980</td>\n",
       "      <td>2060.989990</td>\n",
       "      <td>1411860000</td>\n",
       "      <td>2060.989990</td>\n",
       "    </tr>\n",
       "    <tr>\n",
       "      <th>2015-12-28</th>\n",
       "      <td>2057.770020</td>\n",
       "      <td>2057.770020</td>\n",
       "      <td>2044.199951</td>\n",
       "      <td>2056.500000</td>\n",
       "      <td>2492510000</td>\n",
       "      <td>2056.500000</td>\n",
       "    </tr>\n",
       "    <tr>\n",
       "      <th>2015-12-29</th>\n",
       "      <td>2060.540039</td>\n",
       "      <td>2081.560059</td>\n",
       "      <td>2060.540039</td>\n",
       "      <td>2078.360107</td>\n",
       "      <td>2542000000</td>\n",
       "      <td>2078.360107</td>\n",
       "    </tr>\n",
       "    <tr>\n",
       "      <th>2015-12-30</th>\n",
       "      <td>2077.340088</td>\n",
       "      <td>2077.340088</td>\n",
       "      <td>2061.969971</td>\n",
       "      <td>2063.360107</td>\n",
       "      <td>2367430000</td>\n",
       "      <td>2063.360107</td>\n",
       "    </tr>\n",
       "    <tr>\n",
       "      <th>2015-12-31</th>\n",
       "      <td>2060.590088</td>\n",
       "      <td>2062.540039</td>\n",
       "      <td>2043.619995</td>\n",
       "      <td>2043.939941</td>\n",
       "      <td>2655330000</td>\n",
       "      <td>2043.939941</td>\n",
       "    </tr>\n",
       "  </tbody>\n",
       "</table>\n",
       "</div>"
      ],
      "text/plain": [
       "                   Open         High          Low        Close      Volume  \\\n",
       "Date                                                                         \n",
       "2015-12-24  2063.520020  2067.360107  2058.729980  2060.989990  1411860000   \n",
       "2015-12-28  2057.770020  2057.770020  2044.199951  2056.500000  2492510000   \n",
       "2015-12-29  2060.540039  2081.560059  2060.540039  2078.360107  2542000000   \n",
       "2015-12-30  2077.340088  2077.340088  2061.969971  2063.360107  2367430000   \n",
       "2015-12-31  2060.590088  2062.540039  2043.619995  2043.939941  2655330000   \n",
       "\n",
       "              Adj Close  \n",
       "Date                     \n",
       "2015-12-24  2060.989990  \n",
       "2015-12-28  2056.500000  \n",
       "2015-12-29  2078.360107  \n",
       "2015-12-30  2063.360107  \n",
       "2015-12-31  2043.939941  "
      ]
     },
     "execution_count": 41,
     "metadata": {},
     "output_type": "execute_result"
    }
   ],
   "source": [
    "SP.tail()"
   ]
  },
  {
   "cell_type": "markdown",
   "metadata": {},
   "source": [
    "   根据收盘点位绘图："
   ]
  },
  {
   "cell_type": "code",
   "execution_count": 42,
   "metadata": {
    "collapsed": false,
    "scrolled": true
   },
   "outputs": [
    {
     "data": {
      "text/plain": [
       "<matplotlib.axes.AxesSubplot at 0x1148e0250>"
      ]
     },
     "execution_count": 42,
     "metadata": {},
     "output_type": "execute_result"
    },
    {
     "data": {
      "image/png": "[encoded data removed]",
      "text/plain": [
       "<matplotlib.figure.Figure at 0x1149c3050>"
      ]
     },
     "metadata": {},
     "output_type": "display_data"
    }
   ],
   "source": [
    "SP['Close'].plot(figsize=(8, 5))"
   ]
  },
  {
   "cell_type": "markdown",
   "metadata": {},
   "source": [
    "        在上述的DataFrame中，对于收盘价格，计算对数收益率："
   ]
  },
  {
   "cell_type": "code",
   "execution_count": 43,
   "metadata": {
    "collapsed": false
   },
   "outputs": [
    {
     "name": "stderr",
     "output_type": "stream",
     "text": [
      "/Library/Python/2.7/site-packages/ipykernel/__main__.py:3: SettingWithCopyWarning: \n",
      "A value is trying to be set on a copy of a slice from a DataFrame\n",
      "\n",
      "See the the caveats in the documentation: http://pandas.pydata.org/pandas-docs/stable/indexing.html#indexing-view-versus-copy\n",
      "  app.launch_new_instance()\n"
     ]
    },
    {
     "name": "stdout",
     "output_type": "stream",
     "text": [
      "CPU times: user 7.36 s, sys: 48.6 ms, total: 7.41 s\n",
      "Wall time: 7.48 s\n"
     ]
    }
   ],
   "source": [
    "%%time\n",
    "SP['Ret_Loop'] = 0.0\n",
    "for i in range(1, len(SP)):\n",
    "    SP['Ret_Loop'][i] = np.log(SP['Close'][i] / SP['Close'][i - 1])"
   ]
  },
  {
   "cell_type": "code",
   "execution_count": 46,
   "metadata": {
    "collapsed": false
   },
   "outputs": [
    {
     "data": {
      "text/html": [
       "<div>\n",
       "<table border=\"1\" class=\"dataframe\">\n",
       "  <thead>\n",
       "    <tr style=\"text-align: right;\">\n",
       "      <th></th>\n",
       "      <th>Close</th>\n",
       "      <th>Ret_Loop</th>\n",
       "    </tr>\n",
       "    <tr>\n",
       "      <th>Date</th>\n",
       "      <th></th>\n",
       "      <th></th>\n",
       "    </tr>\n",
       "  </thead>\n",
       "  <tbody>\n",
       "    <tr>\n",
       "      <th>2015-12-24</th>\n",
       "      <td>2060.989990</td>\n",
       "      <td>-0.001600</td>\n",
       "    </tr>\n",
       "    <tr>\n",
       "      <th>2015-12-28</th>\n",
       "      <td>2056.500000</td>\n",
       "      <td>-0.002181</td>\n",
       "    </tr>\n",
       "    <tr>\n",
       "      <th>2015-12-29</th>\n",
       "      <td>2078.360107</td>\n",
       "      <td>0.010574</td>\n",
       "    </tr>\n",
       "    <tr>\n",
       "      <th>2015-12-30</th>\n",
       "      <td>2063.360107</td>\n",
       "      <td>-0.007243</td>\n",
       "    </tr>\n",
       "    <tr>\n",
       "      <th>2015-12-31</th>\n",
       "      <td>2043.939941</td>\n",
       "      <td>-0.009456</td>\n",
       "    </tr>\n",
       "  </tbody>\n",
       "</table>\n",
       "</div>"
      ],
      "text/plain": [
       "                  Close  Ret_Loop\n",
       "Date                             \n",
       "2015-12-24  2060.989990 -0.001600\n",
       "2015-12-28  2056.500000 -0.002181\n",
       "2015-12-29  2078.360107  0.010574\n",
       "2015-12-30  2063.360107 -0.007243\n",
       "2015-12-31  2043.939941 -0.009456"
      ]
     },
     "execution_count": 46,
     "metadata": {},
     "output_type": "execute_result"
    }
   ],
   "source": [
    "SP[['Close', 'Ret_Loop']].tail()"
   ]
  },
  {
   "cell_type": "markdown",
   "metadata": {},
   "source": [
    "   也可以通过shift方法，"
   ]
  },
  {
   "cell_type": "code",
   "execution_count": 49,
   "metadata": {
    "collapsed": false
   },
   "outputs": [
    {
     "name": "stdout",
     "output_type": "stream",
     "text": [
      "CPU times: user 1.28 ms, sys: 298 µs, total: 1.58 ms\n",
      "Wall time: 1.47 ms\n"
     ]
    }
   ],
   "source": [
    "%time SP['Return'] = np.log(SP['Close'] / SP['Close'].shift(1))"
   ]
  },
  {
   "cell_type": "code",
   "execution_count": 51,
   "metadata": {
    "collapsed": false
   },
   "outputs": [
    {
     "data": {
      "text/html": [
       "<div>\n",
       "<table border=\"1\" class=\"dataframe\">\n",
       "  <thead>\n",
       "    <tr style=\"text-align: right;\">\n",
       "      <th></th>\n",
       "      <th>Close</th>\n",
       "      <th>Ret_Loop</th>\n",
       "      <th>Return</th>\n",
       "    </tr>\n",
       "    <tr>\n",
       "      <th>Date</th>\n",
       "      <th></th>\n",
       "      <th></th>\n",
       "      <th></th>\n",
       "    </tr>\n",
       "  </thead>\n",
       "  <tbody>\n",
       "    <tr>\n",
       "      <th>2015-12-24</th>\n",
       "      <td>2060.989990</td>\n",
       "      <td>-0.001600</td>\n",
       "      <td>-0.001600</td>\n",
       "    </tr>\n",
       "    <tr>\n",
       "      <th>2015-12-28</th>\n",
       "      <td>2056.500000</td>\n",
       "      <td>-0.002181</td>\n",
       "      <td>-0.002181</td>\n",
       "    </tr>\n",
       "    <tr>\n",
       "      <th>2015-12-29</th>\n",
       "      <td>2078.360107</td>\n",
       "      <td>0.010574</td>\n",
       "      <td>0.010574</td>\n",
       "    </tr>\n",
       "    <tr>\n",
       "      <th>2015-12-30</th>\n",
       "      <td>2063.360107</td>\n",
       "      <td>-0.007243</td>\n",
       "      <td>-0.007243</td>\n",
       "    </tr>\n",
       "    <tr>\n",
       "      <th>2015-12-31</th>\n",
       "      <td>2043.939941</td>\n",
       "      <td>-0.009456</td>\n",
       "      <td>-0.009456</td>\n",
       "    </tr>\n",
       "  </tbody>\n",
       "</table>\n",
       "</div>"
      ],
      "text/plain": [
       "                  Close  Ret_Loop    Return\n",
       "Date                                       \n",
       "2015-12-24  2060.989990 -0.001600 -0.001600\n",
       "2015-12-28  2056.500000 -0.002181 -0.002181\n",
       "2015-12-29  2078.360107  0.010574  0.010574\n",
       "2015-12-30  2063.360107 -0.007243 -0.007243\n",
       "2015-12-31  2043.939941 -0.009456 -0.009456"
      ]
     },
     "execution_count": 51,
     "metadata": {},
     "output_type": "execute_result"
    }
   ],
   "source": [
    "SP[['Close', 'Ret_Loop', 'Return']].tail()"
   ]
  }
 ],
 "metadata": {
  "kernelspec": {
   "display_name": "Python 2",
   "language": "python",
   "name": "python2"
  },
  "language_info": {
   "codemirror_mode": {
    "name": "ipython",
    "version": 2
   },
   "file_extension": ".py",
   "mimetype": "text/x-python",
   "name": "python",
   "nbconvert_exporter": "python",
   "pygments_lexer": "ipython2",
   "version": "2.7.10"
  }
 },
 "nbformat": 4,
 "nbformat_minor": 0
}
